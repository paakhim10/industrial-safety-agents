{
 "cells": [
  {
   "cell_type": "code",
   "execution_count": 12,
   "id": "5c8aebcf",
   "metadata": {},
   "outputs": [
    {
     "name": "stderr",
     "output_type": "stream",
     "text": [
      "huggingface/tokenizers: The current process just got forked, after parallelism has already been used. Disabling parallelism to avoid deadlocks...\n",
      "To disable this warning, you can either:\n",
      "\t- Avoid using `tokenizers` before the fork if possible\n",
      "\t- Explicitly set the environment variable TOKENIZERS_PARALLELISM=(true | false)\n"
     ]
    },
    {
     "name": "stdout",
     "output_type": "stream",
     "text": [
      "Requirement already satisfied: num2words in ./siemens-env/lib/python3.11/site-packages (0.5.14)\n",
      "Requirement already satisfied: docopt>=0.6.2 in ./siemens-env/lib/python3.11/site-packages (from num2words) (0.6.2)\n",
      "\n",
      "\u001b[1m[\u001b[0m\u001b[34;49mnotice\u001b[0m\u001b[1;39;49m]\u001b[0m\u001b[39;49m A new release of pip is available: \u001b[0m\u001b[31;49m25.1.1\u001b[0m\u001b[39;49m -> \u001b[0m\u001b[32;49m25.2\u001b[0m\n",
      "\u001b[1m[\u001b[0m\u001b[34;49mnotice\u001b[0m\u001b[1;39;49m]\u001b[0m\u001b[39;49m To update, run: \u001b[0m\u001b[32;49mpip install --upgrade pip\u001b[0m\n"
     ]
    }
   ],
   "source": [
    "!pip install num2words"
   ]
  },
  {
   "cell_type": "code",
   "execution_count": 13,
   "id": "1a923bbc",
   "metadata": {},
   "outputs": [
    {
     "name": "stderr",
     "output_type": "stream",
     "text": [
      "huggingface/tokenizers: The current process just got forked, after parallelism has already been used. Disabling parallelism to avoid deadlocks...\n",
      "To disable this warning, you can either:\n",
      "\t- Avoid using `tokenizers` before the fork if possible\n",
      "\t- Explicitly set the environment variable TOKENIZERS_PARALLELISM=(true | false)\n"
     ]
    },
    {
     "name": "stdout",
     "output_type": "stream",
     "text": [
      "Requirement already satisfied: av in ./siemens-env/lib/python3.11/site-packages (15.0.0)\n",
      "\n",
      "\u001b[1m[\u001b[0m\u001b[34;49mnotice\u001b[0m\u001b[1;39;49m]\u001b[0m\u001b[39;49m A new release of pip is available: \u001b[0m\u001b[31;49m25.1.1\u001b[0m\u001b[39;49m -> \u001b[0m\u001b[32;49m25.2\u001b[0m\n",
      "\u001b[1m[\u001b[0m\u001b[34;49mnotice\u001b[0m\u001b[1;39;49m]\u001b[0m\u001b[39;49m To update, run: \u001b[0m\u001b[32;49mpip install --upgrade pip\u001b[0m\n"
     ]
    }
   ],
   "source": [
    "!pip install av"
   ]
  },
  {
   "cell_type": "code",
   "execution_count": 28,
   "id": "532397bb",
   "metadata": {},
   "outputs": [
    {
     "name": "stderr",
     "output_type": "stream",
     "text": [
      "huggingface/tokenizers: The current process just got forked, after parallelism has already been used. Disabling parallelism to avoid deadlocks...\n",
      "To disable this warning, you can either:\n",
      "\t- Avoid using `tokenizers` before the fork if possible\n",
      "\t- Explicitly set the environment variable TOKENIZERS_PARALLELISM=(true | false)\n"
     ]
    },
    {
     "name": "stdout",
     "output_type": "stream",
     "text": [
      "Collecting opencv-python\n",
      "  Downloading opencv_python-4.12.0.88-cp37-abi3-macosx_13_0_arm64.whl.metadata (19 kB)\n",
      "Collecting numpy<2.3.0,>=2 (from opencv-python)\n",
      "  Downloading numpy-2.2.6-cp311-cp311-macosx_14_0_arm64.whl.metadata (62 kB)\n",
      "Downloading opencv_python-4.12.0.88-cp37-abi3-macosx_13_0_arm64.whl (37.9 MB)\n",
      "\u001b[2K   \u001b[90m━━━━━━━━━━━━━━━━━━━━━━━━━━━━━━━━━━━━━━━━\u001b[0m \u001b[32m37.9/37.9 MB\u001b[0m \u001b[31m18.6 MB/s\u001b[0m eta \u001b[36m0:00:00\u001b[0ma \u001b[36m0:00:01\u001b[0m\n",
      "\u001b[?25hDownloading numpy-2.2.6-cp311-cp311-macosx_14_0_arm64.whl (5.4 MB)\n",
      "\u001b[2K   \u001b[90m━━━━━━━━━━━━━━━━━━━━━━━━━━━━━━━━━━━━━━━━\u001b[0m \u001b[32m5.4/5.4 MB\u001b[0m \u001b[31m22.2 MB/s\u001b[0m eta \u001b[36m0:00:00\u001b[0ma \u001b[36m0:00:01\u001b[0m\n",
      "\u001b[?25hInstalling collected packages: numpy, opencv-python\n",
      "\u001b[2K  Attempting uninstall: numpy\n",
      "\u001b[2K    Found existing installation: numpy 2.3.1\n",
      "\u001b[2K    Uninstalling numpy-2.3.1:\n",
      "\u001b[2K      Successfully uninstalled numpy-2.3.1\n",
      "\u001b[2K   \u001b[90m━━━━━━━━━━━━━━━━━━━━━━━━━━━━━━━━━━━━━━━━\u001b[0m \u001b[32m2/2\u001b[0m [opencv-python]0m [opencv-python]\n",
      "\u001b[1A\u001b[2KSuccessfully installed numpy-2.2.6 opencv-python-4.12.0.88\n",
      "\n",
      "\u001b[1m[\u001b[0m\u001b[34;49mnotice\u001b[0m\u001b[1;39;49m]\u001b[0m\u001b[39;49m A new release of pip is available: \u001b[0m\u001b[31;49m25.1.1\u001b[0m\u001b[39;49m -> \u001b[0m\u001b[32;49m25.2\u001b[0m\n",
      "\u001b[1m[\u001b[0m\u001b[34;49mnotice\u001b[0m\u001b[1;39;49m]\u001b[0m\u001b[39;49m To update, run: \u001b[0m\u001b[32;49mpip install --upgrade pip\u001b[0m\n"
     ]
    }
   ],
   "source": [
    "!pip install opencv-python"
   ]
  },
  {
   "cell_type": "code",
   "execution_count": 7,
   "id": "99594121",
   "metadata": {},
   "outputs": [],
   "source": [
    "import time"
   ]
  },
  {
   "cell_type": "code",
   "execution_count": 8,
   "id": "b336a292",
   "metadata": {},
   "outputs": [],
   "source": [
    "import psutil\n",
    "import os\n",
    "def get_memory_usage_mb():\n",
    "    process = psutil.Process(os.getpid())\n",
    "    return process.memory_info().rss / (1024 * 1024)  # in MB"
   ]
  },
  {
   "cell_type": "code",
   "execution_count": 9,
   "id": "069efd11",
   "metadata": {},
   "outputs": [],
   "source": [
    "SAFETY_PROMPTS = [\n",
    "    \"Analyze this industrial/construction site video. Identify any safety violations including: people without hardhats, people without safety vests, unauthorized personnel in restricted zones, or vehicles too close to workers. List all safety hazards you detect.\",\n",
    "    \"You are a safety inspector. Examine this video for workplace safety violations. Report: 1) Missing PPE (hardhats, safety vests, safety boots), 2) Restricted area violations, 3) Unsafe vehicle-pedestrian distances. Be specific about what you observe.\",\n",
    "    \"Industrial safety check: Look for safety hazards in this video including workers without proper protective equipment, people in danger zones, and unsafe proximity between vehicles and personnel. Provide a safety assessment.\",\n",
    "]\n",
    "\n",
    "SAFETY_QUESTIONS = [\n",
    "    \"Are there any people in the video not wearing hardhats?\",\n",
    "    \"Do all visible workers have safety vests on?\",\n",
    "    \"Is anyone in the video located inside a restricted or unauthorized zone?\",\n",
    "    \"Are there any vehicles dangerously close to workers in the video?\",\n",
    "    \"Is anyone missing required PPE like safety boots, vests, or helmets?\",\n",
    "    \"Is there an unsafe distance between any vehicle and a person?\",\n",
    "    \"Are all workers following proper industrial safety protocols?\",\n",
    "    \"Is anyone working in an area they should not be in?\",\n",
    "    \"Are there any visible safety violations in this video?\",\n",
    "    \"Does the video show any hazards that could pose a threat to worker safety?\"\n",
    "]"
   ]
  },
  {
   "cell_type": "markdown",
   "id": "c6212dd9",
   "metadata": {},
   "source": [
    "## Post-video Inference"
   ]
  },
  {
   "cell_type": "markdown",
   "id": "02d4af83",
   "metadata": {},
   "source": [
    "### SmolVLM2-500M-Video-Instruct"
   ]
  },
  {
   "cell_type": "code",
   "execution_count": 17,
   "id": "29c7c78c",
   "metadata": {},
   "outputs": [],
   "source": [
    "import torch\n",
    "from transformers import AutoProcessor, AutoModelForImageTextToText"
   ]
  },
  {
   "cell_type": "code",
   "execution_count": 18,
   "id": "e406d32d",
   "metadata": {},
   "outputs": [],
   "source": [
    "model_id = \"HuggingFaceTB/SmolVLM2-500M-Video-Instruct\"\n",
    "\n",
    "processor = AutoProcessor.from_pretrained(model_id)\n",
    "\n",
    "model = AutoModelForImageTextToText.from_pretrained(\n",
    "    model_id,\n",
    "    torch_dtype=torch.float32\n",
    ").to(\"cpu\")"
   ]
  },
  {
   "cell_type": "code",
   "execution_count": 19,
   "id": "fc2b585e",
   "metadata": {},
   "outputs": [],
   "source": [
    "def run_safety_analysis(video_path, prompts):\n",
    "    results = {}\n",
    "    for prompt in prompts:\n",
    "        messages = [\n",
    "            {\n",
    "                \"role\": \"user\",\n",
    "                \"content\": [\n",
    "                    {\"type\": \"video\", \"path\": video_path},\n",
    "                    {\"type\": \"text\", \"text\": prompt},\n",
    "                ],\n",
    "            }\n",
    "        ]\n",
    "        inputs = processor.apply_chat_template(\n",
    "            messages,\n",
    "            add_generation_prompt=True,\n",
    "            tokenize=True,\n",
    "            return_dict=True,\n",
    "            return_tensors=\"pt\"\n",
    "        ).to(\"cpu\")\n",
    "\n",
    "        with torch.no_grad():\n",
    "            output_ids = model.generate(**inputs, max_new_tokens=400)\n",
    "            response = processor.batch_decode(output_ids, skip_special_tokens=True)[0]\n",
    "            \n",
    "            if \"Assistant:\" in response:\n",
    "                clean_response = response.split(\"Assistant:\")[-1].strip()\n",
    "            else:\n",
    "                clean_response = response\n",
    "            \n",
    "            results[prompt] = clean_response\n",
    "    \n",
    "    return results"
   ]
  },
  {
   "cell_type": "code",
   "execution_count": 20,
   "id": "f10801ad",
   "metadata": {},
   "outputs": [
    {
     "name": "stdout",
     "output_type": "stream",
     "text": [
      "\n",
      "Prompt: Are there any people in the video not wearing hardhats?\n",
      "Response: Yes, there are people in the video who are not wearing hardhats, such as a person in a black shirt and another in a blue shirt.\n",
      "--------------------------------------------------\n",
      "\n",
      "Prompt: Do all visible workers have safety vests on?\n",
      "Response: Yes, all visible workers are wearing safety vests.\n",
      "--------------------------------------------------\n",
      "\n",
      "Prompt: Is anyone in the video located inside a restricted or unauthorized zone?\n",
      "Response: Yes, there is a person in a yellow hard hat and a white shirt walking on the sidewalk, which is not allowed in the restricted zone.\n",
      "--------------------------------------------------\n",
      "\n",
      "Prompt: Are there any vehicles dangerously close to workers in the video?\n",
      "Response: Yes, there are several vehicles, including a yellow bus and a yellow truck, that are very close to the workers.\n",
      "--------------------------------------------------\n",
      "\n",
      "Prompt: Is anyone missing required PPE like safety boots, vests, or helmets?\n",
      "Response: No, the video does not indicate that anyone is missing required PPE.\n",
      "--------------------------------------------------\n",
      "\n",
      "Prompt: Is there an unsafe distance between any vehicle and a person?\n",
      "Response: Yes, there is a yellow line on the road that is too close to the edge of the road, indicating an unsafe distance between any vehicle and a person.\n",
      "--------------------------------------------------\n",
      "\n",
      "Prompt: Are all workers following proper industrial safety protocols?\n",
      "Response: Yes, all workers are wearing safety helmets and are following proper industrial safety protocols.\n",
      "--------------------------------------------------\n",
      "\n",
      "Prompt: Is anyone working in an area they should not be in?\n",
      "Response: Yes, the man in the yellow hard hat is working in an area he should not be in.\n",
      "--------------------------------------------------\n",
      "\n",
      "Prompt: Are there any visible safety violations in this video?\n",
      "Response: Yes, there are visible safety violations in the video, such as the presence of yellow caution tape and the presence of a yellow and black striped barrier.\n",
      "--------------------------------------------------\n",
      "\n",
      "Prompt: Does the video show any hazards that could pose a threat to worker safety?\n",
      "Response: Yes, the video shows a yellow truck with a large load on the back, which could potentially cause a collision with the workers.\n",
      "--------------------------------------------------\n",
      "Memory used (CPU RAM): 3243.70 MB\n",
      "Total Time: 134.95 seconds\n"
     ]
    }
   ],
   "source": [
    "video_file = \"images/camera 1.mp4\"\n",
    "start_time = time.time()\n",
    "before_mem = get_memory_usage_mb()\n",
    "\n",
    "findings = run_safety_analysis(video_file, SAFETY_QUESTIONS)\n",
    "\n",
    "for q, ans in findings.items():\n",
    "    print(f\"\\nPrompt: {q}\\nResponse: {ans}\\n{'-'*50}\")\n",
    "\n",
    "end_time = time.time()\n",
    "after_mem = get_memory_usage_mb()\n",
    "print(f\"Memory used (CPU RAM): {after_mem - before_mem:.2f} MB\")\n",
    "\n",
    "print(f\"Total Time: {end_time - start_time:.2f} seconds\")"
   ]
  },
  {
   "cell_type": "markdown",
   "id": "2e33da1f",
   "metadata": {},
   "source": [
    "## Real-time Video Inference"
   ]
  },
  {
   "cell_type": "markdown",
   "id": "506585eb",
   "metadata": {},
   "source": [
    "### SmolVLM-500M-Instruct"
   ]
  },
  {
   "cell_type": "code",
   "execution_count": 22,
   "id": "51f53845",
   "metadata": {},
   "outputs": [],
   "source": [
    "import torch\n",
    "from transformers import AutoProcessor, AutoModelForVision2Seq\n",
    "import cv2"
   ]
  },
  {
   "cell_type": "code",
   "execution_count": 2,
   "id": "a97405f3",
   "metadata": {},
   "outputs": [],
   "source": [
    "processor2 = AutoProcessor.from_pretrained(\"HuggingFaceTB/SmolVLM-500M-Instruct\")\n",
    "model2 = AutoModelForVision2Seq.from_pretrained(\"HuggingFaceTB/SmolVLM-500M-Instruct\")"
   ]
  },
  {
   "cell_type": "code",
   "execution_count": 23,
   "id": "b63d8a9c",
   "metadata": {},
   "outputs": [],
   "source": [
    "from PIL import Image\n",
    "def analyze_frame(frame, prompt):\n",
    "    \"\"\"Run inference on a single frame with given prompt.\"\"\"\n",
    "    messages = [\n",
    "        {\n",
    "            \"role\": \"user\",\n",
    "            \"content\": [\n",
    "                {\"type\": \"image\", \"image\": frame},\n",
    "                {\"type\": \"text\", \"text\": prompt},\n",
    "            ],\n",
    "        }\n",
    "    ]\n",
    "    inputs = processor2.apply_chat_template(\n",
    "        messages,\n",
    "        add_generation_prompt=True,\n",
    "        tokenize=True,\n",
    "        return_dict=True,\n",
    "        return_tensors=\"pt\"\n",
    "    ).to(\"cpu\")\n",
    "    \n",
    "    with torch.no_grad():\n",
    "        output_ids = model2.generate(**inputs, max_new_tokens=100)\n",
    "        response = processor2.batch_decode(output_ids, skip_special_tokens=True)[0]\n",
    "        \n",
    "        # Clean the response\n",
    "        if \"Assistant:\" in response:\n",
    "            clean_response = response.split(\"Assistant:\")[-1].strip()\n",
    "        else:\n",
    "            clean_response = response\n",
    "            \n",
    "    return clean_response"
   ]
  },
  {
   "cell_type": "code",
   "execution_count": 26,
   "id": "ed9ffc94",
   "metadata": {},
   "outputs": [],
   "source": [
    "def run_realtime_analysis(video_path, prompts, frame_interval=30):\n",
    "    \"\"\"\n",
    "    Processes video frame by frame and runs safety analysis prompts.\n",
    "    Args:\n",
    "        video_path (str): Path to the video file.\n",
    "        prompts (list): List of textual safety questions/prompts.\n",
    "        frame_interval (int): Process every Nth frame (default=30 ~ 1 sec at 30fps).\n",
    "    \"\"\"    \n",
    "    cap = cv2.VideoCapture(video_path)\n",
    "    fps = cap.get(cv2.CAP_PROP_FPS)\n",
    "    frame_count = 0\n",
    "    results = []\n",
    "    \n",
    "    while cap.isOpened():\n",
    "        ret, frame = cap.read()\n",
    "        if not ret:\n",
    "            break\n",
    "            \n",
    "        if frame_count % frame_interval == 0:\n",
    "            frame_start_time = time.time()\n",
    "            \n",
    "            # Timestamp in seconds\n",
    "            timestamp = frame_count / fps\n",
    "            # Convert frame to PIL image\n",
    "            pil_frame = Image.fromarray(cv2.cvtColor(frame, cv2.COLOR_BGR2RGB))\n",
    "            \n",
    "            for prompt in prompts:\n",
    "                prompt_start_time = time.time()\n",
    "                \n",
    "                messages = [\n",
    "                    {\n",
    "                        \"role\": \"user\",\n",
    "                        \"content\": [\n",
    "                            {\"type\": \"image\", \"image\": pil_frame},\n",
    "                            {\"type\": \"text\", \"text\": prompt},\n",
    "                        ],\n",
    "                    }\n",
    "                ]\n",
    "                inputs = processor2.apply_chat_template(\n",
    "                    messages,\n",
    "                    add_generation_prompt=True,\n",
    "                    tokenize=True,\n",
    "                    return_dict=True,\n",
    "                    return_tensors=\"pt\"\n",
    "                ).to(\"cpu\")\n",
    "                \n",
    "                with torch.no_grad():\n",
    "                    output_ids = model2.generate(**inputs, max_new_tokens=200)\n",
    "                    response = processor2.batch_decode(output_ids, skip_special_tokens=True)[0]\n",
    "                    \n",
    "                    # Clean the response\n",
    "                    if \"Assistant:\" in response:\n",
    "                        clean_response = response.split(\"Assistant:\")[-1].strip()\n",
    "                    else:\n",
    "                        clean_response = response\n",
    "                \n",
    "                prompt_time = time.time() - prompt_start_time\n",
    "                \n",
    "                # Print findings in real-time\n",
    "                print(f\"\\n[Time: {timestamp:.2f}s] [Processing: {prompt_time:.2f}s] Prompt: {prompt}\\nResponse: {clean_response}\\n{'-'*60}\")\n",
    "                \n",
    "                results.append({\n",
    "                    \"time\": timestamp,\n",
    "                    \"prompt\": prompt,\n",
    "                    \"response\": clean_response,\n",
    "                    \"processing_time\": prompt_time\n",
    "                })\n",
    "            \n",
    "            frame_total_time = time.time() - frame_start_time\n",
    "            print(f\"\\n>>> FRAME TOTAL TIME: {frame_total_time:.2f}s <<<\\n{'='*60}\")\n",
    "        \n",
    "        frame_count += 1\n",
    "    \n",
    "    cap.release()\n",
    "    return results"
   ]
  },
  {
   "cell_type": "code",
   "execution_count": 27,
   "id": "561d25be",
   "metadata": {},
   "outputs": [
    {
     "name": "stdout",
     "output_type": "stream",
     "text": [
      "\n",
      "[Time: 0.00s] [Processing: 7.99s] Prompt: Are there any people in the video not wearing hardhats?\n",
      "Response: Yes, there are people in the video who are not wearing hardhats.\n",
      "------------------------------------------------------------\n",
      "\n",
      "[Time: 0.00s] [Processing: 7.44s] Prompt: Do all visible workers have safety vests on?\n",
      "Response: Yes, all visible workers are wearing safety vests.\n",
      "------------------------------------------------------------\n",
      "\n",
      "[Time: 0.00s] [Processing: 7.98s] Prompt: Is anyone in the video located inside a restricted or unauthorized zone?\n",
      "Response: The provided facts do not mention any restricted or unauthorized zones, so it cannot be determined from the image.\n",
      "------------------------------------------------------------\n",
      "\n",
      "[Time: 0.00s] [Processing: 7.56s] Prompt: Are there any vehicles dangerously close to workers in the video?\n",
      "Response: Yes, there are vehicles dangerously close to workers in the video.\n",
      "------------------------------------------------------------\n",
      "\n",
      "[Time: 0.00s] [Processing: 8.04s] Prompt: Is anyone missing required PPE like safety boots, vests, or helmets?\n",
      "Response: The image does not show any missing items, and the provided facts do not mention any specific items required for safety.\n",
      "------------------------------------------------------------\n",
      "\n",
      "[Time: 0.00s] [Processing: 7.49s] Prompt: Is there an unsafe distance between any vehicle and a person?\n",
      "Response: Yes, there is a person walking in front of the vehicles.\n",
      "------------------------------------------------------------\n",
      "\n",
      "[Time: 0.00s] [Processing: 7.30s] Prompt: Are all workers following proper industrial safety protocols?\n",
      "Response: Yes, all workers are wearing safety helmets.\n",
      "------------------------------------------------------------\n",
      "\n",
      "[Time: 0.00s] [Processing: 7.66s] Prompt: Is anyone working in an area they should not be in?\n",
      "Response: Yes, there are people in an area they should not be in.\n",
      "------------------------------------------------------------\n",
      "\n",
      "[Time: 0.00s] [Processing: 7.52s] Prompt: Are there any visible safety violations in this video?\n",
      "Response: There is no indication of any safety violations in the image.\n",
      "------------------------------------------------------------\n",
      "\n",
      "[Time: 0.00s] [Processing: 7.96s] Prompt: Does the video show any hazards that could pose a threat to worker safety?\n",
      "Response: The provided facts do not mention any hazards or risks associated with the vehicles and people in the image.\n",
      "------------------------------------------------------------\n",
      "\n",
      ">>> FRAME TOTAL TIME: 76.95s <<<\n",
      "============================================================\n",
      "\n",
      "[Time: 1.00s] [Processing: 7.75s] Prompt: Are there any people in the video not wearing hardhats?\n",
      "Response: Yes, there are people in the video who are not wearing hardhats.\n",
      "------------------------------------------------------------\n",
      "\n",
      "[Time: 1.00s] [Processing: 7.46s] Prompt: Do all visible workers have safety vests on?\n",
      "Response: Yes, all visible workers are wearing safety vests.\n",
      "------------------------------------------------------------\n",
      "\n",
      "[Time: 1.00s] [Processing: 8.08s] Prompt: Is anyone in the video located inside a restricted or unauthorized zone?\n",
      "Response: The provided facts do not mention any video or restricted zones, so it cannot be determined from the image.\n",
      "------------------------------------------------------------\n",
      "\n",
      "[Time: 1.00s] [Processing: 7.59s] Prompt: Are there any vehicles dangerously close to workers in the video?\n",
      "Response: Yes, there are vehicles dangerously close to workers in the video.\n",
      "------------------------------------------------------------\n",
      "\n",
      "[Time: 1.00s] [Processing: 8.08s] Prompt: Is anyone missing required PPE like safety boots, vests, or helmets?\n",
      "Response: The image does not show any missing items, and the provided facts do not mention any specific PPE items.\n",
      "------------------------------------------------------------\n",
      "\n",
      "[Time: 1.00s] [Processing: 7.47s] Prompt: Is there an unsafe distance between any vehicle and a person?\n",
      "Response: Yes, there is a person between two vehicles.\n",
      "------------------------------------------------------------\n",
      "\n",
      "[Time: 1.00s] [Processing: 7.43s] Prompt: Are all workers following proper industrial safety protocols?\n",
      "Response: Yes, all workers are wearing safety helmets.\n",
      "------------------------------------------------------------\n",
      "\n",
      "[Time: 1.00s] [Processing: 7.73s] Prompt: Is anyone working in an area they should not be in?\n",
      "Response: Yes, there are people in an area they should not be in.\n",
      "------------------------------------------------------------\n",
      "\n",
      "[Time: 1.00s] [Processing: 7.58s] Prompt: Are there any visible safety violations in this video?\n",
      "Response: There is no indication of any safety violations in the image.\n",
      "------------------------------------------------------------\n",
      "\n",
      "[Time: 1.00s] [Processing: 7.93s] Prompt: Does the video show any hazards that could pose a threat to worker safety?\n",
      "Response: The provided facts do not mention any hazards or risks associated with the workers in the image.\n",
      "------------------------------------------------------------\n",
      "\n",
      ">>> FRAME TOTAL TIME: 77.11s <<<\n",
      "============================================================\n",
      "\n",
      "[Time: 2.00s] [Processing: 7.85s] Prompt: Are there any people in the video not wearing hardhats?\n",
      "Response: Yes, there are people in the video who are not wearing hardhats.\n",
      "------------------------------------------------------------\n",
      "\n",
      "[Time: 2.00s] [Processing: 7.56s] Prompt: Do all visible workers have safety vests on?\n",
      "Response: Yes, all visible workers are wearing safety vests.\n",
      "------------------------------------------------------------\n",
      "\n",
      "[Time: 2.00s] [Processing: 7.86s] Prompt: Is anyone in the video located inside a restricted or unauthorized zone?\n",
      "Response: There is no video or indication of a restricted or unauthorized zone in the image.\n",
      "------------------------------------------------------------\n",
      "\n",
      "[Time: 2.00s] [Processing: 7.59s] Prompt: Are there any vehicles dangerously close to workers in the video?\n",
      "Response: There is no indication of any vehicles being dangerous in the image.\n",
      "------------------------------------------------------------\n",
      "\n",
      "[Time: 2.00s] [Processing: 7.70s] Prompt: Is anyone missing required PPE like safety boots, vests, or helmets?\n",
      "Response: The image does not show any people missing, required PPE, or any other specific items.\n",
      "------------------------------------------------------------\n",
      "\n",
      "[Time: 2.00s] [Processing: 7.30s] Prompt: Is there an unsafe distance between any vehicle and a person?\n",
      "Response: Yes, there is a person between two vehicles.\n",
      "------------------------------------------------------------\n",
      "\n",
      "[Time: 2.00s] [Processing: 7.33s] Prompt: Are all workers following proper industrial safety protocols?\n",
      "Response: Yes, all workers are wearing safety helmets.\n",
      "------------------------------------------------------------\n",
      "\n",
      "[Time: 2.00s] [Processing: 7.74s] Prompt: Is anyone working in an area they should not be in?\n",
      "Response: Yes, there are people standing in an area they should not be in.\n",
      "------------------------------------------------------------\n",
      "\n",
      "[Time: 2.00s] [Processing: 7.67s] Prompt: Are there any visible safety violations in this video?\n",
      "Response: There is no indication of any safety violations in the image.\n",
      "------------------------------------------------------------\n",
      "\n",
      "[Time: 2.00s] [Processing: 7.97s] Prompt: Does the video show any hazards that could pose a threat to worker safety?\n",
      "Response: The provided facts do not mention any video or any indication of potential hazards.\n",
      "------------------------------------------------------------\n",
      "\n",
      ">>> FRAME TOTAL TIME: 76.57s <<<\n",
      "============================================================\n",
      "\n",
      "[Time: 3.00s] [Processing: 8.02s] Prompt: Are there any people in the video not wearing hardhats?\n",
      "Response: Yes, there are people in the video who are not wearing hardhats.\n",
      "------------------------------------------------------------\n",
      "\n",
      "[Time: 3.00s] [Processing: 7.79s] Prompt: Do all visible workers have safety vests on?\n",
      "Response: Yes, all visible workers are wearing safety vests.\n",
      "------------------------------------------------------------\n",
      "\n",
      "[Time: 3.00s] [Processing: 8.06s] Prompt: Is anyone in the video located inside a restricted or unauthorized zone?\n",
      "Response: No, there is no indication of an unauthorized zone or restriction in the image.\n",
      "------------------------------------------------------------\n",
      "\n",
      "[Time: 3.00s] [Processing: 7.86s] Prompt: Are there any vehicles dangerously close to workers in the video?\n",
      "Response: Yes, there are vehicles dangerously close to workers in the video.\n",
      "------------------------------------------------------------\n",
      "\n",
      "[Time: 3.00s] [Processing: 8.85s] Prompt: Is anyone missing required PPE like safety boots, vests, or helmets?\n",
      "Response: The image does not show any people missing, required PPE, or any other specific items.\n",
      "------------------------------------------------------------\n",
      "\n",
      "[Time: 3.00s] [Processing: 8.51s] Prompt: Is there an unsafe distance between any vehicle and a person?\n",
      "Response: Yes, there is a person in the image.\n",
      "------------------------------------------------------------\n",
      "\n",
      "[Time: 3.00s] [Processing: 7.70s] Prompt: Are all workers following proper industrial safety protocols?\n",
      "Response: Yes, both workers are wearing safety helmets.\n",
      "------------------------------------------------------------\n",
      "\n",
      "[Time: 3.00s] [Processing: 9.44s] Prompt: Is anyone working in an area they should not be in?\n",
      "Response: Yes, there are people working in an area they should not be in.\n",
      "------------------------------------------------------------\n",
      "\n",
      "[Time: 3.00s] [Processing: 7.78s] Prompt: Are there any visible safety violations in this video?\n",
      "Response: There is no indication of any safety violations in the image.\n",
      "------------------------------------------------------------\n",
      "\n",
      "[Time: 3.00s] [Processing: 8.18s] Prompt: Does the video show any hazards that could pose a threat to worker safety?\n",
      "Response: The provided facts do not mention any hazards or risks associated with the vehicles and people in the image.\n",
      "------------------------------------------------------------\n",
      "\n",
      ">>> FRAME TOTAL TIME: 82.20s <<<\n",
      "============================================================\n",
      "\n",
      "[Time: 4.00s] [Processing: 7.93s] Prompt: Are there any people in the video not wearing hardhats?\n",
      "Response: Yes, there are people in the video who are not wearing hardhats.\n",
      "------------------------------------------------------------\n",
      "\n",
      "[Time: 4.00s] [Processing: 7.62s] Prompt: Do all visible workers have safety vests on?\n",
      "Response: Yes, all visible workers are wearing safety vests.\n",
      "------------------------------------------------------------\n",
      "\n",
      "[Time: 4.00s] [Processing: 7.71s] Prompt: Is anyone in the video located inside a restricted or unauthorized zone?\n",
      "Response: No, there is no video or restricted zone mentioned in the image.\n",
      "------------------------------------------------------------\n",
      "\n",
      "[Time: 4.00s] [Processing: 8.03s] Prompt: Are there any vehicles dangerously close to workers in the video?\n",
      "Response: Yes, there are trucks in the background of the image, which may suggest that workers are in danger.\n",
      "------------------------------------------------------------\n",
      "\n",
      "[Time: 4.00s] [Processing: 8.09s] Prompt: Is anyone missing required PPE like safety boots, vests, or helmets?\n",
      "Response: The image does not show any missing PPE items, and the people in the image are wearing appropriate safety gear.\n",
      "------------------------------------------------------------\n",
      "\n",
      "[Time: 4.00s] [Processing: 7.43s] Prompt: Is there an unsafe distance between any vehicle and a person?\n",
      "Response: Yes, there is a person between two vehicles.\n",
      "------------------------------------------------------------\n",
      "\n",
      "[Time: 4.00s] [Processing: 7.36s] Prompt: Are all workers following proper industrial safety protocols?\n",
      "Response: Yes, all workers are wearing safety helmets.\n",
      "------------------------------------------------------------\n",
      "\n",
      "[Time: 4.00s] [Processing: 7.66s] Prompt: Is anyone working in an area they should not be in?\n",
      "Response: Yes, there are people working in an area they should not be in.\n",
      "------------------------------------------------------------\n",
      "\n",
      "[Time: 4.00s] [Processing: 7.47s] Prompt: Are there any visible safety violations in this video?\n",
      "Response: There is no indication of any safety violations in the image.\n",
      "------------------------------------------------------------\n",
      "\n",
      "[Time: 4.00s] [Processing: 8.34s] Prompt: Does the video show any hazards that could pose a threat to worker safety?\n",
      "Response: The provided facts do not mention any video or any indication of hazards, so we cannot determine if there are any hazards in the image.\n",
      "------------------------------------------------------------\n",
      "\n",
      ">>> FRAME TOTAL TIME: 77.63s <<<\n",
      "============================================================\n",
      "\n",
      "[Time: 5.00s] [Processing: 7.75s] Prompt: Are there any people in the video not wearing hardhats?\n",
      "Response: Yes, there are people in the video who are not wearing hardhats.\n",
      "------------------------------------------------------------\n",
      "\n",
      "[Time: 5.00s] [Processing: 7.43s] Prompt: Do all visible workers have safety vests on?\n",
      "Response: Yes, all visible workers are wearing safety vests.\n",
      "------------------------------------------------------------\n",
      "\n",
      "[Time: 5.00s] [Processing: 7.78s] Prompt: Is anyone in the video located inside a restricted or unauthorized zone?\n",
      "Response: There is no video or indication of a restricted or unauthorized zone in the image.\n",
      "------------------------------------------------------------\n",
      "\n",
      "[Time: 5.00s] [Processing: 7.62s] Prompt: Are there any vehicles dangerously close to workers in the video?\n",
      "Response: Yes, there are vehicles dangerously close to workers in the video.\n",
      "------------------------------------------------------------\n",
      "\n",
      "[Time: 5.00s] [Processing: 8.11s] Prompt: Is anyone missing required PPE like safety boots, vests, or helmets?\n",
      "Response: The image does not show any missing PPE items, and the people in the image are wearing appropriate safety gear.\n",
      "------------------------------------------------------------\n",
      "\n",
      "[Time: 5.00s] [Processing: 8.24s] Prompt: Is there an unsafe distance between any vehicle and a person?\n",
      "Response: Yes, there is a person in front of a vehicle.\n",
      "------------------------------------------------------------\n",
      "\n",
      "[Time: 5.00s] [Processing: 7.86s] Prompt: Are all workers following proper industrial safety protocols?\n",
      "Response: Yes, all workers are wearing safety helmets.\n",
      "------------------------------------------------------------\n",
      "\n",
      "[Time: 5.00s] [Processing: 8.14s] Prompt: Is anyone working in an area they should not be in?\n",
      "Response: Yes, there are people working in an area they should not be in.\n",
      "------------------------------------------------------------\n",
      "\n",
      "[Time: 5.00s] [Processing: 7.84s] Prompt: Are there any visible safety violations in this video?\n",
      "Response: There is no indication of any safety violations in the image.\n",
      "------------------------------------------------------------\n",
      "\n",
      "[Time: 5.00s] [Processing: 8.24s] Prompt: Does the video show any hazards that could pose a threat to worker safety?\n",
      "Response: The provided facts do not mention any hazards or risks associated with the workers in the image.\n",
      "------------------------------------------------------------\n",
      "\n",
      ">>> FRAME TOTAL TIME: 79.02s <<<\n",
      "============================================================\n",
      "\n",
      "[Time: 6.00s] [Processing: 8.12s] Prompt: Are there any people in the video not wearing hardhats?\n",
      "Response: Yes, there are people in the video who are not wearing hardhats.\n",
      "------------------------------------------------------------\n",
      "\n",
      "[Time: 6.00s] [Processing: 7.77s] Prompt: Do all visible workers have safety vests on?\n",
      "Response: Yes, all visible workers are wearing safety vests.\n",
      "------------------------------------------------------------\n",
      "\n",
      "[Time: 6.00s] [Processing: 8.06s] Prompt: Is anyone in the video located inside a restricted or unauthorized zone?\n",
      "Response: No, there is no indication of an unauthorized zone or restriction in the image.\n",
      "------------------------------------------------------------\n",
      "\n",
      "[Time: 6.00s] [Processing: 7.91s] Prompt: Are there any vehicles dangerously close to workers in the video?\n",
      "Response: Yes, there are vehicles dangerously close to workers in the video.\n",
      "------------------------------------------------------------\n",
      "\n",
      "[Time: 6.00s] [Processing: 8.21s] Prompt: Is anyone missing required PPE like safety boots, vests, or helmets?\n",
      "Response: The image does not show any people missing, required PPE, or any other specific items.\n",
      "------------------------------------------------------------\n",
      "\n",
      "[Time: 6.00s] [Processing: 7.89s] Prompt: Is there an unsafe distance between any vehicle and a person?\n",
      "Response: Yes, there is a person between a vehicle and a person.\n",
      "------------------------------------------------------------\n",
      "\n",
      "[Time: 6.00s] [Processing: 7.68s] Prompt: Are all workers following proper industrial safety protocols?\n",
      "Response: Yes, all workers are wearing safety helmets.\n",
      "------------------------------------------------------------\n",
      "\n",
      "[Time: 6.00s] [Processing: 8.00s] Prompt: Is anyone working in an area they should not be in?\n",
      "Response: Yes, there are people working in an area they should not be in.\n",
      "------------------------------------------------------------\n",
      "\n",
      "[Time: 6.00s] [Processing: 7.88s] Prompt: Are there any visible safety violations in this video?\n",
      "Response: The provided facts do not mention any safety violations in this video.\n",
      "------------------------------------------------------------\n",
      "\n",
      "[Time: 6.00s] [Processing: 8.27s] Prompt: Does the video show any hazards that could pose a threat to worker safety?\n",
      "Response: The provided facts do not mention any hazards or risks associated with the workers or the vehicles.\n",
      "------------------------------------------------------------\n",
      "\n",
      ">>> FRAME TOTAL TIME: 79.79s <<<\n",
      "============================================================\n",
      "\n",
      "[Time: 7.00s] [Processing: 8.17s] Prompt: Are there any people in the video not wearing hardhats?\n",
      "Response: Yes, there are people in the video who are not wearing hardhats.\n",
      "------------------------------------------------------------\n",
      "\n",
      "[Time: 7.00s] [Processing: 7.93s] Prompt: Do all visible workers have safety vests on?\n",
      "Response: Yes, all visible workers are wearing safety vests.\n",
      "------------------------------------------------------------\n",
      "\n",
      "[Time: 7.00s] [Processing: 8.40s] Prompt: Is anyone in the video located inside a restricted or unauthorized zone?\n",
      "Response: The provided facts do not mention any restricted or unauthorized zones, so it cannot be determined from the image.\n",
      "------------------------------------------------------------\n",
      "\n",
      "[Time: 7.00s] [Processing: 8.27s] Prompt: Are there any vehicles dangerously close to workers in the video?\n",
      "Response: Yes, there are vehicles dangerously close to workers in the video.\n",
      "------------------------------------------------------------\n",
      "\n",
      "[Time: 7.00s] [Processing: 8.54s] Prompt: Is anyone missing required PPE like safety boots, vests, or helmets?\n",
      "Response: The image does not show any missing items, and the provided facts do not mention any specific PPE items.\n",
      "------------------------------------------------------------\n",
      "\n",
      "[Time: 7.00s] [Processing: 7.95s] Prompt: Is there an unsafe distance between any vehicle and a person?\n",
      "Response: Yes, there is a person in front of a vehicle.\n",
      "------------------------------------------------------------\n",
      "\n",
      "[Time: 7.00s] [Processing: 7.87s] Prompt: Are all workers following proper industrial safety protocols?\n",
      "Response: Yes, all workers are wearing safety helmets.\n",
      "------------------------------------------------------------\n",
      "\n",
      "[Time: 7.00s] [Processing: 8.22s] Prompt: Is anyone working in an area they should not be in?\n",
      "Response: Yes, there are people working in an area they should not be in.\n",
      "------------------------------------------------------------\n",
      "\n",
      "[Time: 7.00s] [Processing: 8.18s] Prompt: Are there any visible safety violations in this video?\n",
      "Response: There is no information about any safety violations in the image.\n",
      "------------------------------------------------------------\n",
      "\n",
      "[Time: 7.00s] [Processing: 8.49s] Prompt: Does the video show any hazards that could pose a threat to worker safety?\n",
      "Response: The provided facts do not mention any hazards or risks associated with the vehicles and workers in the image.\n",
      "------------------------------------------------------------\n",
      "\n",
      ">>> FRAME TOTAL TIME: 82.01s <<<\n",
      "============================================================\n",
      "\n",
      "[Time: 8.00s] [Processing: 8.07s] Prompt: Are there any people in the video not wearing hardhats?\n",
      "Response: Yes, there are people in the video who are not wearing hardhats.\n",
      "------------------------------------------------------------\n",
      "\n",
      "[Time: 8.00s] [Processing: 7.58s] Prompt: Do all visible workers have safety vests on?\n",
      "Response: Yes, all visible workers are wearing safety vests.\n",
      "------------------------------------------------------------\n",
      "\n",
      "[Time: 8.00s] [Processing: 7.76s] Prompt: Is anyone in the video located inside a restricted or unauthorized zone?\n",
      "Response: No, there is no indication of an unauthorized zone or restriction in the image.\n",
      "------------------------------------------------------------\n",
      "\n",
      "[Time: 8.00s] [Processing: 7.50s] Prompt: Are there any vehicles dangerously close to workers in the video?\n",
      "Response: Yes, there are vehicles dangerously close to workers in the video.\n",
      "------------------------------------------------------------\n",
      "\n",
      "[Time: 8.00s] [Processing: 7.90s] Prompt: Is anyone missing required PPE like safety boots, vests, or helmets?\n",
      "Response: The image does not show any missing PPE items, and the provided facts do not mention any specific PPE items.\n",
      "------------------------------------------------------------\n",
      "\n",
      "[Time: 8.00s] [Processing: 7.85s] Prompt: Is there an unsafe distance between any vehicle and a person?\n",
      "Response: Yes, there is a person in front of a vehicle.\n",
      "------------------------------------------------------------\n",
      "\n",
      "[Time: 8.00s] [Processing: 7.64s] Prompt: Are all workers following proper industrial safety protocols?\n",
      "Response: Yes, all workers are wearing helmets.\n",
      "------------------------------------------------------------\n",
      "\n",
      "[Time: 8.00s] [Processing: 7.47s] Prompt: Is anyone working in an area they should not be in?\n",
      "Response: Yes, there are people working in an area they should not be in.\n",
      "------------------------------------------------------------\n",
      "\n",
      "[Time: 8.00s] [Processing: 7.33s] Prompt: Are there any visible safety violations in this video?\n",
      "Response: The provided facts do not mention any safety violations in the image.\n",
      "------------------------------------------------------------\n",
      "\n",
      "[Time: 8.00s] [Processing: 7.55s] Prompt: Does the video show any hazards that could pose a threat to worker safety?\n",
      "Response: The provided facts do not mention any hazards that could pose a threat to worker safety.\n",
      "------------------------------------------------------------\n",
      "\n",
      ">>> FRAME TOTAL TIME: 76.64s <<<\n",
      "============================================================\n",
      "\n",
      "[Time: 9.00s] [Processing: 7.52s] Prompt: Are there any people in the video not wearing hardhats?\n",
      "Response: Yes, there are people in the video who are not wearing hardhats.\n",
      "------------------------------------------------------------\n",
      "\n",
      "[Time: 9.00s] [Processing: 7.25s] Prompt: Do all visible workers have safety vests on?\n",
      "Response: Yes, all visible workers are wearing safety vests.\n",
      "------------------------------------------------------------\n",
      "\n",
      "[Time: 9.00s] [Processing: 8.31s] Prompt: Is anyone in the video located inside a restricted or unauthorized zone?\n",
      "Response: Yes, there are people in the video who are not allowed to enter the area.\n",
      "------------------------------------------------------------\n",
      "\n",
      "[Time: 9.00s] [Processing: 7.80s] Prompt: Are there any vehicles dangerously close to workers in the video?\n",
      "Response: Yes, there are vehicles dangerously close to workers in the video.\n",
      "------------------------------------------------------------\n",
      "\n",
      "[Time: 9.00s] [Processing: 7.96s] Prompt: Is anyone missing required PPE like safety boots, vests, or helmets?\n",
      "Response: The image does not show any missing PPE items, and the provided facts do not mention any specific PPE items.\n",
      "------------------------------------------------------------\n",
      "\n",
      "[Time: 9.00s] [Processing: 7.48s] Prompt: Is there an unsafe distance between any vehicle and a person?\n",
      "Response: Yes, there is a person standing between a vehicle and a person.\n",
      "------------------------------------------------------------\n",
      "\n",
      "[Time: 9.00s] [Processing: 7.21s] Prompt: Are all workers following proper industrial safety protocols?\n",
      "Response: Yes, all workers are wearing helmets.\n",
      "------------------------------------------------------------\n",
      "\n",
      "[Time: 9.00s] [Processing: 8.44s] Prompt: Is anyone working in an area they should not be in?\n",
      "Response: Yes, some people are working in an area they should not be in.\n",
      "------------------------------------------------------------\n",
      "\n",
      "[Time: 9.00s] [Processing: 7.41s] Prompt: Are there any visible safety violations in this video?\n",
      "Response: The provided facts do not mention any safety violations in the image.\n",
      "------------------------------------------------------------\n",
      "\n",
      "[Time: 9.00s] [Processing: 7.81s] Prompt: Does the video show any hazards that could pose a threat to worker safety?\n",
      "Response: The provided facts do not mention any hazards that could pose a threat to worker safety.\n",
      "------------------------------------------------------------\n",
      "\n",
      ">>> FRAME TOTAL TIME: 77.20s <<<\n",
      "============================================================\n",
      "\n",
      "[Time: 10.00s] [Processing: 8.90s] Prompt: Are there any people in the video not wearing hardhats?\n",
      "Response: Yes, there are people in the video who are not wearing hardhats.\n",
      "------------------------------------------------------------\n",
      "\n",
      "[Time: 10.00s] [Processing: 7.47s] Prompt: Do all visible workers have safety vests on?\n",
      "Response: Yes, all visible workers are wearing safety vests.\n",
      "------------------------------------------------------------\n",
      "\n",
      "[Time: 10.00s] [Processing: 7.57s] Prompt: Is anyone in the video located inside a restricted or unauthorized zone?\n",
      "Response: No, there is no indication of an unauthorized zone or restriction in the image.\n",
      "------------------------------------------------------------\n",
      "\n",
      "[Time: 10.00s] [Processing: 7.46s] Prompt: Are there any vehicles dangerously close to workers in the video?\n",
      "Response: Yes, there are vehicles dangerously close to workers in the video.\n",
      "------------------------------------------------------------\n",
      "\n",
      "[Time: 10.00s] [Processing: 8.77s] Prompt: Is anyone missing required PPE like safety boots, vests, or helmets?\n",
      "Response: The image does not show any missing PPE items, and the provided facts do not mention any specific PPE items.\n",
      "------------------------------------------------------------\n",
      "\n",
      "[Time: 10.00s] [Processing: 8.17s] Prompt: Is there an unsafe distance between any vehicle and a person?\n",
      "Response: Yes, there is a person between two vehicles.\n",
      "------------------------------------------------------------\n",
      "\n",
      "[Time: 10.00s] [Processing: 8.89s] Prompt: Are all workers following proper industrial safety protocols?\n",
      "Response: Yes, all workers are following proper industrial safety protocols.\n",
      "------------------------------------------------------------\n",
      "\n",
      "[Time: 10.00s] [Processing: 8.53s] Prompt: Is anyone working in an area they should not be in?\n",
      "Response: Yes, there are people working in an area they should not be in.\n",
      "------------------------------------------------------------\n",
      "\n",
      "[Time: 10.00s] [Processing: 8.21s] Prompt: Are there any visible safety violations in this video?\n",
      "Response: There is no information about any safety violations in the image.\n",
      "------------------------------------------------------------\n",
      "\n",
      "[Time: 10.00s] [Processing: 9.03s] Prompt: Does the video show any hazards that could pose a threat to worker safety?\n",
      "Response: The provided facts do not mention any specific hazards in the image, so it cannot be determined if there are any hazards present.\n",
      "------------------------------------------------------------\n",
      "\n",
      ">>> FRAME TOTAL TIME: 83.00s <<<\n",
      "============================================================\n",
      "\n",
      "[Time: 11.00s] [Processing: 8.04s] Prompt: Are there any people in the video not wearing hardhats?\n",
      "Response: Yes, there are people in the video who are not wearing hardhats.\n",
      "------------------------------------------------------------\n",
      "\n",
      "[Time: 11.00s] [Processing: 8.02s] Prompt: Do all visible workers have safety vests on?\n",
      "Response: Yes, all visible workers are wearing safety vests.\n",
      "------------------------------------------------------------\n",
      "\n",
      "[Time: 11.00s] [Processing: 8.47s] Prompt: Is anyone in the video located inside a restricted or unauthorized zone?\n",
      "Response: No, there is no indication of an unauthorized zone or restriction in the image.\n",
      "------------------------------------------------------------\n",
      "\n",
      "[Time: 11.00s] [Processing: 8.19s] Prompt: Are there any vehicles dangerously close to workers in the video?\n",
      "Response: Yes, there are vehicles dangerously close to workers in the video.\n",
      "------------------------------------------------------------\n",
      "\n",
      "[Time: 11.00s] [Processing: 8.63s] Prompt: Is anyone missing required PPE like safety boots, vests, or helmets?\n",
      "Response: The image does not show any missing items, and the provided facts do not mention any specific PPE items.\n",
      "------------------------------------------------------------\n",
      "\n",
      "[Time: 11.00s] [Processing: 8.19s] Prompt: Is there an unsafe distance between any vehicle and a person?\n",
      "Response: Yes, there is a person standing between a vehicle and a person.\n",
      "------------------------------------------------------------\n",
      "\n",
      "[Time: 11.00s] [Processing: 7.36s] Prompt: Are all workers following proper industrial safety protocols?\n",
      "Response: Yes, all workers are wearing safety helmets.\n",
      "------------------------------------------------------------\n",
      "\n",
      "[Time: 11.00s] [Processing: 8.41s] Prompt: Is anyone working in an area they should not be in?\n",
      "Response: Yes, there are people working in an area they should not be in.\n",
      "------------------------------------------------------------\n",
      "\n",
      "[Time: 11.00s] [Processing: 7.59s] Prompt: Are there any visible safety violations in this video?\n",
      "Response: The provided facts do not mention any safety violations in the image.\n",
      "------------------------------------------------------------\n",
      "\n",
      "[Time: 11.00s] [Processing: 7.59s] Prompt: Does the video show any hazards that could pose a threat to worker safety?\n",
      "Response: The provided facts do not mention any hazards or risks associated with the video.\n",
      "------------------------------------------------------------\n",
      "\n",
      ">>> FRAME TOTAL TIME: 80.51s <<<\n",
      "============================================================\n",
      "\n",
      "[Time: 12.00s] [Processing: 7.64s] Prompt: Are there any people in the video not wearing hardhats?\n",
      "Response: Yes, there are people in the video who are not wearing hardhats.\n",
      "------------------------------------------------------------\n",
      "\n",
      "[Time: 12.00s] [Processing: 7.40s] Prompt: Do all visible workers have safety vests on?\n",
      "Response: Yes, all visible workers are wearing safety vests.\n",
      "------------------------------------------------------------\n",
      "\n",
      "[Time: 12.00s] [Processing: 8.23s] Prompt: Is anyone in the video located inside a restricted or unauthorized zone?\n",
      "Response: No, there is no indication of an unauthorized zone or restriction in the image.\n",
      "------------------------------------------------------------\n",
      "\n",
      "[Time: 12.00s] [Processing: 8.12s] Prompt: Are there any vehicles dangerously close to workers in the video?\n",
      "Response: Yes, there are vehicles dangerously close to workers in the video.\n",
      "------------------------------------------------------------\n",
      "\n",
      "[Time: 12.00s] [Processing: 9.04s] Prompt: Is anyone missing required PPE like safety boots, vests, or helmets?\n",
      "Response: The image does not show any missing items, and the provided facts do not mention any specific PPE items.\n",
      "------------------------------------------------------------\n",
      "\n",
      "[Time: 12.00s] [Processing: 7.97s] Prompt: Is there an unsafe distance between any vehicle and a person?\n",
      "Response: Yes, there is a person standing between a vehicle and a person.\n",
      "------------------------------------------------------------\n",
      "\n",
      "[Time: 12.00s] [Processing: 8.43s] Prompt: Are all workers following proper industrial safety protocols?\n",
      "Response: Yes, all workers are following proper industrial safety protocols.\n",
      "------------------------------------------------------------\n",
      "\n",
      "[Time: 12.00s] [Processing: 8.17s] Prompt: Is anyone working in an area they should not be in?\n",
      "Response: Yes, there are people working in an area they should not be in.\n",
      "------------------------------------------------------------\n",
      "\n",
      "[Time: 12.00s] [Processing: 9.88s] Prompt: Are there any visible safety violations in this video?\n",
      "Response: The provided facts do not mention any safety violations in the image.\n",
      "------------------------------------------------------------\n",
      "\n",
      "[Time: 12.00s] [Processing: 8.35s] Prompt: Does the video show any hazards that could pose a threat to worker safety?\n",
      "Response: The provided facts do not mention any hazards or risks associated with the video.\n",
      "------------------------------------------------------------\n",
      "\n",
      ">>> FRAME TOTAL TIME: 83.23s <<<\n",
      "============================================================\n",
      "\n",
      "[Time: 13.00s] [Processing: 8.97s] Prompt: Are there any people in the video not wearing hardhats?\n",
      "Response: Yes, there are people in the video who are not wearing hardhats.\n",
      "------------------------------------------------------------\n",
      "\n",
      "[Time: 13.00s] [Processing: 7.77s] Prompt: Do all visible workers have safety vests on?\n",
      "Response: Yes, all visible workers are wearing safety vests.\n",
      "------------------------------------------------------------\n",
      "\n",
      "[Time: 13.00s] [Processing: 7.74s] Prompt: Is anyone in the video located inside a restricted or unauthorized zone?\n",
      "Response: No, there is no indication of an unauthorized zone or restriction in the image.\n",
      "------------------------------------------------------------\n",
      "\n",
      "[Time: 13.00s] [Processing: 9.47s] Prompt: Are there any vehicles dangerously close to workers in the video?\n",
      "Response: Yes, there are vehicles in the background of the image, and they are near the workers.\n",
      "------------------------------------------------------------\n",
      "\n",
      "[Time: 13.00s] [Processing: 7.99s] Prompt: Is anyone missing required PPE like safety boots, vests, or helmets?\n",
      "Response: The image does not show any missing items, and the people are wearing the required PPE.\n",
      "------------------------------------------------------------\n",
      "\n",
      "[Time: 13.00s] [Processing: 7.67s] Prompt: Is there an unsafe distance between any vehicle and a person?\n",
      "Response: Yes, there is a person between a vehicle and a person.\n",
      "------------------------------------------------------------\n",
      "\n",
      "[Time: 13.00s] [Processing: 7.41s] Prompt: Are all workers following proper industrial safety protocols?\n",
      "Response: Yes, all workers are wearing helmets.\n",
      "------------------------------------------------------------\n",
      "\n",
      "[Time: 13.00s] [Processing: 8.08s] Prompt: Is anyone working in an area they should not be in?\n",
      "Response: Yes, there are people working in an area they should not be in.\n",
      "------------------------------------------------------------\n",
      "\n",
      "[Time: 13.00s] [Processing: 8.41s] Prompt: Are there any visible safety violations in this video?\n",
      "Response: The provided facts do not mention any safety violations in the image.\n",
      "------------------------------------------------------------\n",
      "\n",
      "[Time: 13.00s] [Processing: 8.30s] Prompt: Does the video show any hazards that could pose a threat to worker safety?\n",
      "Response: The provided facts do not mention any hazards or risks associated with the vehicles and workers in the image.\n",
      "------------------------------------------------------------\n",
      "\n",
      ">>> FRAME TOTAL TIME: 81.80s <<<\n",
      "============================================================\n",
      "\n",
      "[Time: 14.00s] [Processing: 8.91s] Prompt: Are there any people in the video not wearing hardhats?\n",
      "Response: Yes, there are people in the video who are not wearing hardhats.\n",
      "------------------------------------------------------------\n",
      "\n",
      "[Time: 14.00s] [Processing: 9.35s] Prompt: Do all visible workers have safety vests on?\n",
      "Response: Yes, all visible workers are wearing safety vests.\n",
      "------------------------------------------------------------\n",
      "\n",
      "[Time: 14.00s] [Processing: 8.36s] Prompt: Is anyone in the video located inside a restricted or unauthorized zone?\n",
      "Response: No, there is no indication of an unauthorized zone or restriction in the image.\n",
      "------------------------------------------------------------\n",
      "\n",
      "[Time: 14.00s] [Processing: 8.12s] Prompt: Are there any vehicles dangerously close to workers in the video?\n",
      "Response: Yes, there are vehicles dangerously close to workers in the video.\n",
      "------------------------------------------------------------\n",
      "\n",
      "[Time: 14.00s] [Processing: 8.77s] Prompt: Is anyone missing required PPE like safety boots, vests, or helmets?\n",
      "Response: The image does not show any missing items, and the people wearing safety boots, vests, or helmets are not missing.\n",
      "------------------------------------------------------------\n",
      "\n",
      "[Time: 14.00s] [Processing: 7.72s] Prompt: Is there an unsafe distance between any vehicle and a person?\n",
      "Response: Yes, there is a person standing between a vehicle and a person.\n",
      "------------------------------------------------------------\n",
      "\n",
      "[Time: 14.00s] [Processing: 7.39s] Prompt: Are all workers following proper industrial safety protocols?\n",
      "Response: Yes, all workers are wearing helmets.\n",
      "------------------------------------------------------------\n",
      "\n",
      "[Time: 14.00s] [Processing: 7.80s] Prompt: Is anyone working in an area they should not be in?\n",
      "Response: Yes, there are people working in an area they should not be in.\n",
      "------------------------------------------------------------\n",
      "\n",
      "[Time: 14.00s] [Processing: 7.70s] Prompt: Are there any visible safety violations in this video?\n",
      "Response: The provided facts do not mention any safety violations in the image.\n",
      "------------------------------------------------------------\n",
      "\n",
      "[Time: 14.00s] [Processing: 8.38s] Prompt: Does the video show any hazards that could pose a threat to worker safety?\n",
      "Response: The provided facts do not mention any specific hazards in the image, so it cannot be determined if there are any hazards present.\n",
      "------------------------------------------------------------\n",
      "\n",
      ">>> FRAME TOTAL TIME: 82.51s <<<\n",
      "============================================================\n",
      "\n",
      "[Time: 15.00s] [Processing: 7.84s] Prompt: Are there any people in the video not wearing hardhats?\n",
      "Response: Yes, there are people in the video who are not wearing hardhats.\n",
      "------------------------------------------------------------\n",
      "\n",
      "[Time: 15.00s] [Processing: 7.54s] Prompt: Do all visible workers have safety vests on?\n",
      "Response: Yes, all visible workers are wearing safety vests.\n",
      "------------------------------------------------------------\n",
      "\n",
      "[Time: 15.00s] [Processing: 7.88s] Prompt: Is anyone in the video located inside a restricted or unauthorized zone?\n",
      "Response: No, there is no indication of an unauthorized zone or restriction in the image.\n",
      "------------------------------------------------------------\n",
      "\n",
      "[Time: 15.00s] [Processing: 7.52s] Prompt: Are there any vehicles dangerously close to workers in the video?\n",
      "Response: Yes, there are trucks near the workers.\n",
      "------------------------------------------------------------\n",
      "\n",
      "[Time: 15.00s] [Processing: 8.47s] Prompt: Is anyone missing required PPE like safety boots, vests, or helmets?\n",
      "Response: The image does not show any missing items, and the people wearing safety boots, vests, or helmets are not missing.\n",
      "------------------------------------------------------------\n",
      "\n",
      "[Time: 15.00s] [Processing: 7.66s] Prompt: Is there an unsafe distance between any vehicle and a person?\n",
      "Response: Yes, there is a person between a vehicle and a person.\n",
      "------------------------------------------------------------\n",
      "\n",
      "[Time: 15.00s] [Processing: 7.38s] Prompt: Are all workers following proper industrial safety protocols?\n",
      "Response: Yes, all workers are wearing helmets.\n",
      "------------------------------------------------------------\n",
      "\n",
      "[Time: 15.00s] [Processing: 7.79s] Prompt: Is anyone working in an area they should not be in?\n",
      "Response: Yes, there are people working in an area they should not be in.\n",
      "------------------------------------------------------------\n",
      "\n",
      "[Time: 15.00s] [Processing: 7.70s] Prompt: Are there any visible safety violations in this video?\n",
      "Response: The provided facts do not mention any safety violations in the image.\n",
      "------------------------------------------------------------\n",
      "\n",
      "[Time: 15.00s] [Processing: 8.01s] Prompt: Does the video show any hazards that could pose a threat to worker safety?\n",
      "Response: The provided facts do not mention any hazards or risks associated with the vehicles or the road.\n",
      "------------------------------------------------------------\n",
      "\n",
      ">>> FRAME TOTAL TIME: 77.79s <<<\n",
      "============================================================\n",
      "\n",
      "[Time: 16.00s] [Processing: 7.92s] Prompt: Are there any people in the video not wearing hardhats?\n",
      "Response: Yes, there are people in the video who are not wearing hardhats.\n",
      "------------------------------------------------------------\n",
      "\n",
      "[Time: 16.00s] [Processing: 7.53s] Prompt: Do all visible workers have safety vests on?\n",
      "Response: Yes, all visible workers are wearing safety vests.\n",
      "------------------------------------------------------------\n",
      "\n",
      "[Time: 16.00s] [Processing: 7.88s] Prompt: Is anyone in the video located inside a restricted or unauthorized zone?\n",
      "Response: No, there is no indication of an unauthorized zone or restriction in the image.\n",
      "------------------------------------------------------------\n",
      "\n",
      "[Time: 16.00s] [Processing: 7.80s] Prompt: Are there any vehicles dangerously close to workers in the video?\n",
      "Response: Yes, there are vehicles dangerously close to workers in the video.\n",
      "------------------------------------------------------------\n",
      "\n",
      "[Time: 16.00s] [Processing: 8.33s] Prompt: Is anyone missing required PPE like safety boots, vests, or helmets?\n",
      "Response: The image does not show any missing items, and the people wearing safety boots, vests, or helmets are not missing.\n",
      "------------------------------------------------------------\n",
      "\n",
      "[Time: 16.00s] [Processing: 7.74s] Prompt: Is there an unsafe distance between any vehicle and a person?\n",
      "Response: Yes, there is a person between a vehicle and a person.\n",
      "------------------------------------------------------------\n",
      "\n",
      "[Time: 16.00s] [Processing: 7.39s] Prompt: Are all workers following proper industrial safety protocols?\n",
      "Response: Yes, all workers are wearing helmets.\n",
      "------------------------------------------------------------\n",
      "\n",
      "[Time: 16.00s] [Processing: 7.73s] Prompt: Is anyone working in an area they should not be in?\n",
      "Response: Yes, there are people working in an area they should not be in.\n",
      "------------------------------------------------------------\n",
      "\n",
      "[Time: 16.00s] [Processing: 7.61s] Prompt: Are there any visible safety violations in this video?\n",
      "Response: The provided facts do not mention any safety violations in the image.\n",
      "------------------------------------------------------------\n",
      "\n",
      "[Time: 16.00s] [Processing: 8.28s] Prompt: Does the video show any hazards that could pose a threat to worker safety?\n",
      "Response: The provided facts do not mention any specific hazards in the image, so it cannot be determined if there are any hazards present.\n",
      "------------------------------------------------------------\n",
      "\n",
      ">>> FRAME TOTAL TIME: 78.22s <<<\n",
      "============================================================\n",
      "Memory used (CPU RAM): -643.88 MB\n",
      "Total Time: 1352.79 seconds\n"
     ]
    }
   ],
   "source": [
    "video_file = \"images/camera 1.mp4\"\n",
    "start_time = time.time()\n",
    "before_mem = get_memory_usage_mb()\n",
    "findings = run_realtime_analysis(video_file, SAFETY_QUESTIONS)\n",
    "\n",
    "end_time = time.time()\n",
    "after_mem = get_memory_usage_mb()\n",
    "print(f\"Memory used (CPU RAM): {after_mem - before_mem:.2f} MB\")\n",
    "\n",
    "print(f\"Total Time: {end_time - start_time:.2f} seconds\")"
   ]
  },
  {
   "cell_type": "code",
   "execution_count": null,
   "id": "b8bc46a0",
   "metadata": {},
   "outputs": [],
   "source": []
  },
  {
   "cell_type": "markdown",
   "id": "8a637041",
   "metadata": {},
   "source": [
    "## Visual Analysis of tested models"
   ]
  },
  {
   "cell_type": "code",
   "execution_count": 29,
   "id": "64b7db2c",
   "metadata": {},
   "outputs": [],
   "source": [
    "frame_durations = []\n",
    "\n",
    "for finding in findings:\n",
    "    frame_durations.append(finding['processing_time'])"
   ]
  },
  {
   "cell_type": "code",
   "execution_count": 36,
   "id": "89c85ab7",
   "metadata": {},
   "outputs": [
    {
     "name": "stderr",
     "output_type": "stream",
     "text": [
      "huggingface/tokenizers: The current process just got forked, after parallelism has already been used. Disabling parallelism to avoid deadlocks...\n",
      "To disable this warning, you can either:\n",
      "\t- Avoid using `tokenizers` before the fork if possible\n",
      "\t- Explicitly set the environment variable TOKENIZERS_PARALLELISM=(true | false)\n"
     ]
    },
    {
     "name": "stdout",
     "output_type": "stream",
     "text": [
      "Requirement already satisfied: plotly in ./siemens-env/lib/python3.11/site-packages (6.3.0)\n",
      "Requirement already satisfied: narwhals>=1.15.1 in ./siemens-env/lib/python3.11/site-packages (from plotly) (2.1.2)\n",
      "Requirement already satisfied: packaging in ./siemens-env/lib/python3.11/site-packages (from plotly) (25.0)\n",
      "\n",
      "\u001b[1m[\u001b[0m\u001b[34;49mnotice\u001b[0m\u001b[1;39;49m]\u001b[0m\u001b[39;49m A new release of pip is available: \u001b[0m\u001b[31;49m25.1.1\u001b[0m\u001b[39;49m -> \u001b[0m\u001b[32;49m25.2\u001b[0m\n",
      "\u001b[1m[\u001b[0m\u001b[34;49mnotice\u001b[0m\u001b[1;39;49m]\u001b[0m\u001b[39;49m To update, run: \u001b[0m\u001b[32;49mpip install --upgrade pip\u001b[0m\n"
     ]
    },
    {
     "name": "stderr",
     "output_type": "stream",
     "text": [
      "huggingface/tokenizers: The current process just got forked, after parallelism has already been used. Disabling parallelism to avoid deadlocks...\n",
      "To disable this warning, you can either:\n",
      "\t- Avoid using `tokenizers` before the fork if possible\n",
      "\t- Explicitly set the environment variable TOKENIZERS_PARALLELISM=(true | false)\n"
     ]
    },
    {
     "name": "stdout",
     "output_type": "stream",
     "text": [
      "Collecting pandas\n",
      "  Downloading pandas-2.3.1-cp311-cp311-macosx_11_0_arm64.whl.metadata (91 kB)\n",
      "Requirement already satisfied: numpy>=1.23.2 in ./siemens-env/lib/python3.11/site-packages (from pandas) (2.2.6)\n",
      "Requirement already satisfied: python-dateutil>=2.8.2 in ./siemens-env/lib/python3.11/site-packages (from pandas) (2.9.0.post0)\n",
      "Collecting pytz>=2020.1 (from pandas)\n",
      "  Using cached pytz-2025.2-py2.py3-none-any.whl.metadata (22 kB)\n",
      "Collecting tzdata>=2022.7 (from pandas)\n",
      "  Using cached tzdata-2025.2-py2.py3-none-any.whl.metadata (1.4 kB)\n",
      "Requirement already satisfied: six>=1.5 in ./siemens-env/lib/python3.11/site-packages (from python-dateutil>=2.8.2->pandas) (1.17.0)\n",
      "Downloading pandas-2.3.1-cp311-cp311-macosx_11_0_arm64.whl (10.8 MB)\n",
      "\u001b[2K   \u001b[90m━━━━━━━━━━━━━━━━━━━━━━━━━━━━━━━━━━━━━━━━\u001b[0m \u001b[32m10.8/10.8 MB\u001b[0m \u001b[31m21.9 MB/s\u001b[0m eta \u001b[36m0:00:00\u001b[0m \u001b[36m0:00:01\u001b[0m\n",
      "\u001b[?25hUsing cached pytz-2025.2-py2.py3-none-any.whl (509 kB)\n",
      "Using cached tzdata-2025.2-py2.py3-none-any.whl (347 kB)\n",
      "Installing collected packages: pytz, tzdata, pandas\n",
      "\u001b[2K   \u001b[90m━━━━━━━━━━━━━━━━━━━━━━━━━━━━━━━━━━━━━━━━\u001b[0m \u001b[32m3/3\u001b[0m [pandas]2m2/3\u001b[0m [pandas]\n",
      "\u001b[1A\u001b[2KSuccessfully installed pandas-2.3.1 pytz-2025.2 tzdata-2025.2\n",
      "\n",
      "\u001b[1m[\u001b[0m\u001b[34;49mnotice\u001b[0m\u001b[1;39;49m]\u001b[0m\u001b[39;49m A new release of pip is available: \u001b[0m\u001b[31;49m25.1.1\u001b[0m\u001b[39;49m -> \u001b[0m\u001b[32;49m25.2\u001b[0m\n",
      "\u001b[1m[\u001b[0m\u001b[34;49mnotice\u001b[0m\u001b[1;39;49m]\u001b[0m\u001b[39;49m To update, run: \u001b[0m\u001b[32;49mpip install --upgrade pip\u001b[0m\n"
     ]
    },
    {
     "name": "stderr",
     "output_type": "stream",
     "text": [
      "huggingface/tokenizers: The current process just got forked, after parallelism has already been used. Disabling parallelism to avoid deadlocks...\n",
      "To disable this warning, you can either:\n",
      "\t- Avoid using `tokenizers` before the fork if possible\n",
      "\t- Explicitly set the environment variable TOKENIZERS_PARALLELISM=(true | false)\n"
     ]
    },
    {
     "name": "stdout",
     "output_type": "stream",
     "text": [
      "Collecting nbformat\n",
      "  Using cached nbformat-5.10.4-py3-none-any.whl.metadata (3.6 kB)\n",
      "Collecting fastjsonschema>=2.15 (from nbformat)\n",
      "  Downloading fastjsonschema-2.21.2-py3-none-any.whl.metadata (2.3 kB)\n",
      "Collecting jsonschema>=2.6 (from nbformat)\n",
      "  Using cached jsonschema-4.25.0-py3-none-any.whl.metadata (7.7 kB)\n",
      "Requirement already satisfied: jupyter-core!=5.0.*,>=4.12 in ./siemens-env/lib/python3.11/site-packages (from nbformat) (5.8.1)\n",
      "Requirement already satisfied: traitlets>=5.1 in ./siemens-env/lib/python3.11/site-packages (from nbformat) (5.14.3)\n",
      "Collecting attrs>=22.2.0 (from jsonschema>=2.6->nbformat)\n",
      "  Using cached attrs-25.3.0-py3-none-any.whl.metadata (10 kB)\n",
      "Collecting jsonschema-specifications>=2023.03.6 (from jsonschema>=2.6->nbformat)\n",
      "  Using cached jsonschema_specifications-2025.4.1-py3-none-any.whl.metadata (2.9 kB)\n",
      "Collecting referencing>=0.28.4 (from jsonschema>=2.6->nbformat)\n",
      "  Using cached referencing-0.36.2-py3-none-any.whl.metadata (2.8 kB)\n",
      "Collecting rpds-py>=0.7.1 (from jsonschema>=2.6->nbformat)\n",
      "  Downloading rpds_py-0.27.0-cp311-cp311-macosx_11_0_arm64.whl.metadata (4.2 kB)\n",
      "Requirement already satisfied: platformdirs>=2.5 in ./siemens-env/lib/python3.11/site-packages (from jupyter-core!=5.0.*,>=4.12->nbformat) (4.3.8)\n",
      "Requirement already satisfied: typing-extensions>=4.4.0 in ./siemens-env/lib/python3.11/site-packages (from referencing>=0.28.4->jsonschema>=2.6->nbformat) (4.14.1)\n",
      "Using cached nbformat-5.10.4-py3-none-any.whl (78 kB)\n",
      "Downloading fastjsonschema-2.21.2-py3-none-any.whl (24 kB)\n",
      "Using cached jsonschema-4.25.0-py3-none-any.whl (89 kB)\n",
      "Using cached attrs-25.3.0-py3-none-any.whl (63 kB)\n",
      "Using cached jsonschema_specifications-2025.4.1-py3-none-any.whl (18 kB)\n",
      "Using cached referencing-0.36.2-py3-none-any.whl (26 kB)\n",
      "Downloading rpds_py-0.27.0-cp311-cp311-macosx_11_0_arm64.whl (354 kB)\n",
      "Installing collected packages: fastjsonschema, rpds-py, attrs, referencing, jsonschema-specifications, jsonschema, nbformat\n",
      "\u001b[2K   \u001b[90m━━━━━━━━━━━━━━━━━━━━━━━━━━━━━━━━━━━━━━━━\u001b[0m \u001b[32m7/7\u001b[0m [nbformat]\n",
      "\u001b[1A\u001b[2KSuccessfully installed attrs-25.3.0 fastjsonschema-2.21.2 jsonschema-4.25.0 jsonschema-specifications-2025.4.1 nbformat-5.10.4 referencing-0.36.2 rpds-py-0.27.0\n",
      "\n",
      "\u001b[1m[\u001b[0m\u001b[34;49mnotice\u001b[0m\u001b[1;39;49m]\u001b[0m\u001b[39;49m A new release of pip is available: \u001b[0m\u001b[31;49m25.1.1\u001b[0m\u001b[39;49m -> \u001b[0m\u001b[32;49m25.2\u001b[0m\n",
      "\u001b[1m[\u001b[0m\u001b[34;49mnotice\u001b[0m\u001b[1;39;49m]\u001b[0m\u001b[39;49m To update, run: \u001b[0m\u001b[32;49mpip install --upgrade pip\u001b[0m\n"
     ]
    }
   ],
   "source": [
    "!pip install plotly\n",
    "!pip install pandas\n",
    "!pip install nbformat"
   ]
  },
  {
   "cell_type": "code",
   "execution_count": 3,
   "id": "ba46ec5e",
   "metadata": {},
   "outputs": [
    {
     "data": {
      "application/vnd.plotly.v1+json": {
       "config": {
        "plotlyServerURL": "https://plot.ly"
       },
       "data": [
        {
         "marker": {
          "color": "skyblue"
         },
         "type": "bar",
         "x": [
          "SmolVLM-500M-Instruct",
          "SmolVLM-500M-Video-Instruct"
         ],
         "y": [
          1352.79,
          134.95
         ]
        }
       ],
       "layout": {
        "template": {
         "data": {
          "bar": [
           {
            "error_x": {
             "color": "#2a3f5f"
            },
            "error_y": {
             "color": "#2a3f5f"
            },
            "marker": {
             "line": {
              "color": "#E5ECF6",
              "width": 0.5
             },
             "pattern": {
              "fillmode": "overlay",
              "size": 10,
              "solidity": 0.2
             }
            },
            "type": "bar"
           }
          ],
          "barpolar": [
           {
            "marker": {
             "line": {
              "color": "#E5ECF6",
              "width": 0.5
             },
             "pattern": {
              "fillmode": "overlay",
              "size": 10,
              "solidity": 0.2
             }
            },
            "type": "barpolar"
           }
          ],
          "carpet": [
           {
            "aaxis": {
             "endlinecolor": "#2a3f5f",
             "gridcolor": "white",
             "linecolor": "white",
             "minorgridcolor": "white",
             "startlinecolor": "#2a3f5f"
            },
            "baxis": {
             "endlinecolor": "#2a3f5f",
             "gridcolor": "white",
             "linecolor": "white",
             "minorgridcolor": "white",
             "startlinecolor": "#2a3f5f"
            },
            "type": "carpet"
           }
          ],
          "choropleth": [
           {
            "colorbar": {
             "outlinewidth": 0,
             "ticks": ""
            },
            "type": "choropleth"
           }
          ],
          "contour": [
           {
            "colorbar": {
             "outlinewidth": 0,
             "ticks": ""
            },
            "colorscale": [
             [
              0,
              "#0d0887"
             ],
             [
              0.1111111111111111,
              "#46039f"
             ],
             [
              0.2222222222222222,
              "#7201a8"
             ],
             [
              0.3333333333333333,
              "#9c179e"
             ],
             [
              0.4444444444444444,
              "#bd3786"
             ],
             [
              0.5555555555555556,
              "#d8576b"
             ],
             [
              0.6666666666666666,
              "#ed7953"
             ],
             [
              0.7777777777777778,
              "#fb9f3a"
             ],
             [
              0.8888888888888888,
              "#fdca26"
             ],
             [
              1,
              "#f0f921"
             ]
            ],
            "type": "contour"
           }
          ],
          "contourcarpet": [
           {
            "colorbar": {
             "outlinewidth": 0,
             "ticks": ""
            },
            "type": "contourcarpet"
           }
          ],
          "heatmap": [
           {
            "colorbar": {
             "outlinewidth": 0,
             "ticks": ""
            },
            "colorscale": [
             [
              0,
              "#0d0887"
             ],
             [
              0.1111111111111111,
              "#46039f"
             ],
             [
              0.2222222222222222,
              "#7201a8"
             ],
             [
              0.3333333333333333,
              "#9c179e"
             ],
             [
              0.4444444444444444,
              "#bd3786"
             ],
             [
              0.5555555555555556,
              "#d8576b"
             ],
             [
              0.6666666666666666,
              "#ed7953"
             ],
             [
              0.7777777777777778,
              "#fb9f3a"
             ],
             [
              0.8888888888888888,
              "#fdca26"
             ],
             [
              1,
              "#f0f921"
             ]
            ],
            "type": "heatmap"
           }
          ],
          "histogram": [
           {
            "marker": {
             "pattern": {
              "fillmode": "overlay",
              "size": 10,
              "solidity": 0.2
             }
            },
            "type": "histogram"
           }
          ],
          "histogram2d": [
           {
            "colorbar": {
             "outlinewidth": 0,
             "ticks": ""
            },
            "colorscale": [
             [
              0,
              "#0d0887"
             ],
             [
              0.1111111111111111,
              "#46039f"
             ],
             [
              0.2222222222222222,
              "#7201a8"
             ],
             [
              0.3333333333333333,
              "#9c179e"
             ],
             [
              0.4444444444444444,
              "#bd3786"
             ],
             [
              0.5555555555555556,
              "#d8576b"
             ],
             [
              0.6666666666666666,
              "#ed7953"
             ],
             [
              0.7777777777777778,
              "#fb9f3a"
             ],
             [
              0.8888888888888888,
              "#fdca26"
             ],
             [
              1,
              "#f0f921"
             ]
            ],
            "type": "histogram2d"
           }
          ],
          "histogram2dcontour": [
           {
            "colorbar": {
             "outlinewidth": 0,
             "ticks": ""
            },
            "colorscale": [
             [
              0,
              "#0d0887"
             ],
             [
              0.1111111111111111,
              "#46039f"
             ],
             [
              0.2222222222222222,
              "#7201a8"
             ],
             [
              0.3333333333333333,
              "#9c179e"
             ],
             [
              0.4444444444444444,
              "#bd3786"
             ],
             [
              0.5555555555555556,
              "#d8576b"
             ],
             [
              0.6666666666666666,
              "#ed7953"
             ],
             [
              0.7777777777777778,
              "#fb9f3a"
             ],
             [
              0.8888888888888888,
              "#fdca26"
             ],
             [
              1,
              "#f0f921"
             ]
            ],
            "type": "histogram2dcontour"
           }
          ],
          "mesh3d": [
           {
            "colorbar": {
             "outlinewidth": 0,
             "ticks": ""
            },
            "type": "mesh3d"
           }
          ],
          "parcoords": [
           {
            "line": {
             "colorbar": {
              "outlinewidth": 0,
              "ticks": ""
             }
            },
            "type": "parcoords"
           }
          ],
          "pie": [
           {
            "automargin": true,
            "type": "pie"
           }
          ],
          "scatter": [
           {
            "fillpattern": {
             "fillmode": "overlay",
             "size": 10,
             "solidity": 0.2
            },
            "type": "scatter"
           }
          ],
          "scatter3d": [
           {
            "line": {
             "colorbar": {
              "outlinewidth": 0,
              "ticks": ""
             }
            },
            "marker": {
             "colorbar": {
              "outlinewidth": 0,
              "ticks": ""
             }
            },
            "type": "scatter3d"
           }
          ],
          "scattercarpet": [
           {
            "marker": {
             "colorbar": {
              "outlinewidth": 0,
              "ticks": ""
             }
            },
            "type": "scattercarpet"
           }
          ],
          "scattergeo": [
           {
            "marker": {
             "colorbar": {
              "outlinewidth": 0,
              "ticks": ""
             }
            },
            "type": "scattergeo"
           }
          ],
          "scattergl": [
           {
            "marker": {
             "colorbar": {
              "outlinewidth": 0,
              "ticks": ""
             }
            },
            "type": "scattergl"
           }
          ],
          "scattermap": [
           {
            "marker": {
             "colorbar": {
              "outlinewidth": 0,
              "ticks": ""
             }
            },
            "type": "scattermap"
           }
          ],
          "scattermapbox": [
           {
            "marker": {
             "colorbar": {
              "outlinewidth": 0,
              "ticks": ""
             }
            },
            "type": "scattermapbox"
           }
          ],
          "scatterpolar": [
           {
            "marker": {
             "colorbar": {
              "outlinewidth": 0,
              "ticks": ""
             }
            },
            "type": "scatterpolar"
           }
          ],
          "scatterpolargl": [
           {
            "marker": {
             "colorbar": {
              "outlinewidth": 0,
              "ticks": ""
             }
            },
            "type": "scatterpolargl"
           }
          ],
          "scatterternary": [
           {
            "marker": {
             "colorbar": {
              "outlinewidth": 0,
              "ticks": ""
             }
            },
            "type": "scatterternary"
           }
          ],
          "surface": [
           {
            "colorbar": {
             "outlinewidth": 0,
             "ticks": ""
            },
            "colorscale": [
             [
              0,
              "#0d0887"
             ],
             [
              0.1111111111111111,
              "#46039f"
             ],
             [
              0.2222222222222222,
              "#7201a8"
             ],
             [
              0.3333333333333333,
              "#9c179e"
             ],
             [
              0.4444444444444444,
              "#bd3786"
             ],
             [
              0.5555555555555556,
              "#d8576b"
             ],
             [
              0.6666666666666666,
              "#ed7953"
             ],
             [
              0.7777777777777778,
              "#fb9f3a"
             ],
             [
              0.8888888888888888,
              "#fdca26"
             ],
             [
              1,
              "#f0f921"
             ]
            ],
            "type": "surface"
           }
          ],
          "table": [
           {
            "cells": {
             "fill": {
              "color": "#EBF0F8"
             },
             "line": {
              "color": "white"
             }
            },
            "header": {
             "fill": {
              "color": "#C8D4E3"
             },
             "line": {
              "color": "white"
             }
            },
            "type": "table"
           }
          ]
         },
         "layout": {
          "annotationdefaults": {
           "arrowcolor": "#2a3f5f",
           "arrowhead": 0,
           "arrowwidth": 1
          },
          "autotypenumbers": "strict",
          "coloraxis": {
           "colorbar": {
            "outlinewidth": 0,
            "ticks": ""
           }
          },
          "colorscale": {
           "diverging": [
            [
             0,
             "#8e0152"
            ],
            [
             0.1,
             "#c51b7d"
            ],
            [
             0.2,
             "#de77ae"
            ],
            [
             0.3,
             "#f1b6da"
            ],
            [
             0.4,
             "#fde0ef"
            ],
            [
             0.5,
             "#f7f7f7"
            ],
            [
             0.6,
             "#e6f5d0"
            ],
            [
             0.7,
             "#b8e186"
            ],
            [
             0.8,
             "#7fbc41"
            ],
            [
             0.9,
             "#4d9221"
            ],
            [
             1,
             "#276419"
            ]
           ],
           "sequential": [
            [
             0,
             "#0d0887"
            ],
            [
             0.1111111111111111,
             "#46039f"
            ],
            [
             0.2222222222222222,
             "#7201a8"
            ],
            [
             0.3333333333333333,
             "#9c179e"
            ],
            [
             0.4444444444444444,
             "#bd3786"
            ],
            [
             0.5555555555555556,
             "#d8576b"
            ],
            [
             0.6666666666666666,
             "#ed7953"
            ],
            [
             0.7777777777777778,
             "#fb9f3a"
            ],
            [
             0.8888888888888888,
             "#fdca26"
            ],
            [
             1,
             "#f0f921"
            ]
           ],
           "sequentialminus": [
            [
             0,
             "#0d0887"
            ],
            [
             0.1111111111111111,
             "#46039f"
            ],
            [
             0.2222222222222222,
             "#7201a8"
            ],
            [
             0.3333333333333333,
             "#9c179e"
            ],
            [
             0.4444444444444444,
             "#bd3786"
            ],
            [
             0.5555555555555556,
             "#d8576b"
            ],
            [
             0.6666666666666666,
             "#ed7953"
            ],
            [
             0.7777777777777778,
             "#fb9f3a"
            ],
            [
             0.8888888888888888,
             "#fdca26"
            ],
            [
             1,
             "#f0f921"
            ]
           ]
          },
          "colorway": [
           "#636efa",
           "#EF553B",
           "#00cc96",
           "#ab63fa",
           "#FFA15A",
           "#19d3f3",
           "#FF6692",
           "#B6E880",
           "#FF97FF",
           "#FECB52"
          ],
          "font": {
           "color": "#2a3f5f"
          },
          "geo": {
           "bgcolor": "white",
           "lakecolor": "white",
           "landcolor": "#E5ECF6",
           "showlakes": true,
           "showland": true,
           "subunitcolor": "white"
          },
          "hoverlabel": {
           "align": "left"
          },
          "hovermode": "closest",
          "mapbox": {
           "style": "light"
          },
          "paper_bgcolor": "white",
          "plot_bgcolor": "#E5ECF6",
          "polar": {
           "angularaxis": {
            "gridcolor": "white",
            "linecolor": "white",
            "ticks": ""
           },
           "bgcolor": "#E5ECF6",
           "radialaxis": {
            "gridcolor": "white",
            "linecolor": "white",
            "ticks": ""
           }
          },
          "scene": {
           "xaxis": {
            "backgroundcolor": "#E5ECF6",
            "gridcolor": "white",
            "gridwidth": 2,
            "linecolor": "white",
            "showbackground": true,
            "ticks": "",
            "zerolinecolor": "white"
           },
           "yaxis": {
            "backgroundcolor": "#E5ECF6",
            "gridcolor": "white",
            "gridwidth": 2,
            "linecolor": "white",
            "showbackground": true,
            "ticks": "",
            "zerolinecolor": "white"
           },
           "zaxis": {
            "backgroundcolor": "#E5ECF6",
            "gridcolor": "white",
            "gridwidth": 2,
            "linecolor": "white",
            "showbackground": true,
            "ticks": "",
            "zerolinecolor": "white"
           }
          },
          "shapedefaults": {
           "line": {
            "color": "#2a3f5f"
           }
          },
          "ternary": {
           "aaxis": {
            "gridcolor": "white",
            "linecolor": "white",
            "ticks": ""
           },
           "baxis": {
            "gridcolor": "white",
            "linecolor": "white",
            "ticks": ""
           },
           "bgcolor": "#E5ECF6",
           "caxis": {
            "gridcolor": "white",
            "linecolor": "white",
            "ticks": ""
           }
          },
          "title": {
           "x": 0.05
          },
          "xaxis": {
           "automargin": true,
           "gridcolor": "white",
           "linecolor": "white",
           "ticks": "",
           "title": {
            "standoff": 15
           },
           "zerolinecolor": "white",
           "zerolinewidth": 2
          },
          "yaxis": {
           "automargin": true,
           "gridcolor": "white",
           "linecolor": "white",
           "ticks": "",
           "title": {
            "standoff": 15
           },
           "zerolinecolor": "white",
           "zerolinewidth": 2
          }
         }
        },
        "title": {
         "text": "Total Inference Time Comparison"
        },
        "xaxis": {
         "title": {
          "text": "Models"
         }
        },
        "yaxis": {
         "title": {
          "text": "Total Time (s)"
         }
        }
       }
      }
     },
     "metadata": {},
     "output_type": "display_data"
    }
   ],
   "source": [
    "import plotly.graph_objects as go\n",
    "\n",
    "# Example results (mock timings for each model, replace with real timings if available)\n",
    "model_times = {\n",
    "    \"SmolVLM-500M-Instruct\": 1352.79,   # seconds\n",
    "    \"SmolVLM-500M-Video-Instruct\": 134.95,   # seconds\n",
    "}\n",
    "\n",
    "frame_durations = [7.988126039505005, 7.441399097442627, 7.982293128967285, 7.5592567920684814, 8.03861689567566, 7.494975805282593, 7.29808497428894, 7.6557090282440186, 7.522607803344727, 7.96260404586792, 7.750208139419556, 7.4618470668792725, 8.080986976623535, 7.594213962554932, 8.078094005584717, 7.471828937530518, 7.432935953140259, 7.727540969848633, 7.57755708694458, 7.9281980991363525, 7.848785877227783, 7.561712026596069, 7.861083984375, 7.591317892074585, 7.698180198669434, 7.303893089294434, 7.331212997436523, 7.737868070602417, 7.665045976638794, 7.969285011291504, 8.023762941360474, 7.790822267532349, 8.063060998916626, 7.863956928253174, 8.8474440574646, 8.509550094604492, 7.703817844390869, 9.44123888015747, 7.7800681591033936, 8.179249048233032, 7.926742076873779, 7.6156721115112305, 7.706362962722778, 8.026015996932983, 8.09115719795227, 7.432284832000732, 7.362820148468018, 7.664441823959351, 7.46610689163208, 8.337284803390503, 7.7466208934783936, 7.434203147888184, 7.780443906784058, 7.620444059371948, 8.114219903945923, 8.237276315689087, 7.859813213348389, 8.141057014465332, 7.842684984207153, 8.243405103683472, 8.117693901062012, 7.769243955612183, 8.058409929275513, 7.908437967300415, 8.206146001815796, 7.8853981494903564, 7.678642988204956, 8.002275228500366, 7.884188175201416, 8.27356481552124, 8.16845989227295, 7.927879095077515, 8.396631002426147, 8.271772146224976, 8.538717269897461, 7.94507098197937, 7.869871139526367, 8.220475912094116, 8.183341026306152, 8.485485792160034, 8.067385911941528, 7.576082944869995, 7.760834217071533, 7.502058982849121, 7.895010948181152, 7.847278118133545, 7.64295506477356, 7.468363046646118, 7.326026916503906, 7.554950952529907, 7.522262096405029, 7.2473180294036865, 8.312555074691772, 7.7969069480896, 7.958584785461426, 7.484839200973511, 7.212639093399048, 8.441498041152954, 7.4144861698150635, 7.807614088058472, 8.899427890777588, 7.474862813949585, 7.56626296043396, 7.460575103759766, 8.773640155792236, 8.168505191802979, 8.89005994796753, 8.52662706375122, 8.212888240814209, 9.028141021728516, 8.044249057769775, 8.015451908111572, 8.4667649269104, 8.193203210830688, 8.632941246032715, 8.194445133209229, 7.364217758178711, 8.40737271308899, 7.593324184417725, 7.59186577796936, 7.642949819564819, 7.395264148712158, 8.225261688232422, 8.124586343765259, 9.041513919830322, 7.96804404258728, 8.428974628448486, 8.172607183456421, 9.876458168029785, 8.352301120758057, 8.971984148025513, 7.772378206253052, 7.736438035964966, 9.47153902053833, 7.98571515083313, 7.667093992233276, 7.4053709506988525, 8.079293966293335, 8.409473896026611, 8.299506902694702, 8.913743019104004, 9.354561805725098, 8.356421947479248, 8.120311975479126, 8.766600131988525, 7.721855401992798, 7.385278940200806, 7.799396991729736, 7.699795246124268, 8.380215167999268, 7.843181133270264, 7.53987717628479, 7.8752968311309814, 7.516602993011475, 8.467005014419556, 7.662873029708862, 7.376661062240601, 7.792434930801392, 7.703174829483032, 8.011789798736572, 7.917418956756592, 7.532609939575195, 7.882156133651733, 7.797562837600708, 8.332176208496094, 7.742718935012817, 7.392119884490967, 7.731805086135864, 7.608674764633179, 8.277629375457764]\n",
    "frames = list(range(1, len(frame_durations) + 1))\n",
    "\n",
    "# --- Total Times Comparison ---\n",
    "fig_total = go.Figure([\n",
    "    go.Bar(x=list(model_times.keys()), y=list(model_times.values()), marker_color=\"skyblue\")\n",
    "])\n",
    "fig_total.update_layout(title=\"Total Inference Time Comparison\",\n",
    "                        xaxis_title=\"Models\",\n",
    "                        yaxis_title=\"Total Time (s)\")\n",
    "\n",
    "fig_total.show()\n"
   ]
  },
  {
   "cell_type": "code",
   "execution_count": 2,
   "id": "d7671917",
   "metadata": {},
   "outputs": [
    {
     "data": {
      "application/vnd.plotly.v1+json": {
       "config": {
        "plotlyServerURL": "https://plot.ly"
       },
       "data": [
        {
         "line": {
          "color": "orange"
         },
         "mode": "lines+markers",
         "name": "Average per Frame",
         "type": "scatter",
         "x": [
          1,
          2,
          3,
          4,
          5,
          6,
          7,
          8,
          9,
          10,
          11,
          12,
          13,
          14,
          15,
          16,
          17
         ],
         "xaxis": "x",
         "y": {
          "bdata": "zczMPAjHHkCamZmpY9ceQGZmZkaaoB5AzczMyMpwIEBmZma+Mg0fQGZmZk6qmx9AAAAAuOHpH0CamZlhy2YgQJqZmXEIqB5AmpmZsSXhHkDNzMyUppkgQM3MzODLGSBAAAAAiEWlIEAAAAAoGVwgQDMzMyfofyBAmpmZQZUdH0CamZnxM0kfQA==",
          "dtype": "f8"
         },
         "yaxis": "y"
        },
        {
         "mode": "markers",
         "name": "Frame 1",
         "showlegend": false,
         "type": "scatter",
         "x": [
          1,
          1,
          1,
          1,
          1,
          1,
          1,
          1,
          1,
          1
         ],
         "xaxis": "x2",
         "y": {
          "bdata": "AAAAUNfzH0AAAAAg/sMdQAAAAEDe7R9AAAAA0K08HkAAAACYxRMgQAAAAPDa+h1AAAAAMD0xHUAAAAAwcp8eQAAAAIAmFx5AAAAA4LTZH0A=",
          "dtype": "f8"
         },
         "yaxis": "y2"
        },
        {
         "mode": "markers",
         "name": "Frame 2",
         "showlegend": false,
         "type": "scatter",
         "x": [
          2,
          2,
          2,
          2,
          2,
          2,
          2,
          2,
          2,
          2
         ],
         "xaxis": "x2",
         "y": {
          "bdata": "AAAAkDYAH0AAAABw7tgdQAAAACB3KSBAAAAAoHlgHkAAAADw+ycgQAAAACAn4x1AAAAAkFO7HUAAAACAAOkeQAAAACBrTx5AAAAAkHm2H0A=",
          "dtype": "f8"
         },
         "yaxis": "y2"
        },
        {
         "mode": "markers",
         "name": "Frame 3",
         "showlegend": false,
         "type": "scatter",
         "x": [
          3,
          3,
          3,
          3,
          3,
          3,
          3,
          3,
          3,
          3
         ],
         "xaxis": "x2",
         "y": {
          "bdata": "AAAAIChlH0AAAABwMT8eQAAAAADAcR9AAAAAcIJdHkAAAADA78oeQAAAAMAvNx1AAAAAgClTHUAAAACwk/MeQAAAANABqR5AAAAAQIzgH0A=",
          "dtype": "f8"
         },
         "yaxis": "y2"
        },
        {
         "mode": "markers",
         "name": "Frame 4",
         "showlegend": false,
         "type": "scatter",
         "x": [
          4,
          4,
          4,
          4,
          4,
          4,
          4,
          4,
          4,
          4
         ],
         "xaxis": "x2",
         "y": {
          "bdata": "AAAAqCoMIEAAAABQzSkfQAAAAIhJICBAAAAAILF0H0AAAAAw5LEhQAAAAMDjBCFAAAAAoLXQHkAAAAAQ6uEiQAAAADDKHh9AAAAAiMZbIEA=",
          "dtype": "f8"
         },
         "yaxis": "y2"
        },
        {
         "mode": "markers",
         "name": "Frame 5",
         "showlegend": false,
         "type": "scatter",
         "x": [
          5,
          5,
          5,
          5,
          5,
          5,
          5,
          5,
          5,
          5
         ],
         "xaxis": "x2",
         "y": {
          "bdata": "AAAA4Pu0H0AAAADAcnYeQAAAANBQ0x5AAAAA+FENIEAAAAAorC4gQAAAAOCouh1AAAAAIIdzHUAAAABwY6geQAAAACBL3R1AAAAAmLCsIEA=",
          "dtype": "f8"
         },
         "yaxis": "y2"
        },
        {
         "mode": "markers",
         "name": "Frame 6",
         "showlegend": false,
         "type": "scatter",
         "x": [
          6,
          6,
          6,
          6,
          6,
          6,
          6,
          6,
          6,
          6
         ],
         "xaxis": "x2",
         "y": {
          "bdata": "AAAAMIr8HkAAAADAn7wdQAAAALAsHx9AAAAAsFV7HkAAAAAIezogQAAAAEh8eSBAAAAA4HJwH0AAAACgOEggQAAAANDoXh9AAAAAmJ98IEA=",
          "dtype": "f8"
         },
         "yaxis": "y2"
        },
        {
         "mode": "markers",
         "name": "Frame 7",
         "showlegend": false,
         "type": "scatter",
         "x": [
          7,
          7,
          7,
          7,
          7,
          7,
          7,
          7,
          7,
          7
         ],
         "xaxis": "x2",
         "y": {
          "bdata": "AAAAYEI8IEAAAACwtBMfQAAAAOjnHSBAAAAAkD2iH0AAAAD4i2kgQAAAANClih9AAAAAMO62HkAAAAA4KgEgQAAAAKBoiR9AAAAAsBCMIEA=",
          "dtype": "f8"
         },
         "yaxis": "y2"
        },
        {
         "mode": "markers",
         "name": "Frame 8",
         "showlegend": false,
         "type": "scatter",
         "x": [
          8,
          8,
          8,
          8,
          8,
          8,
          8,
          8,
          8,
          8
         ],
         "xaxis": "x2",
         "y": {
          "bdata": "AAAAYEBWIEAAAADwJbYfQAAAADgTyyBAAAAAuCWLIEAAAADA0hMhQAAAALDAxx9AAAAAgL96H0AAAAA44nAgQAAAAODeXSBAAAAAmJH4IEA=",
          "dtype": "f8"
         },
         "yaxis": "y2"
        },
        {
         "mode": "markers",
         "name": "Frame 9",
         "showlegend": false,
         "type": "scatter",
         "x": [
          9,
          9,
          9,
          9,
          9,
          9,
          9,
          9,
          9,
          9
         ],
         "xaxis": "x2",
         "y": {
          "bdata": "AAAAaIAiIEAAAACw6E0eQAAAACAYCx9AAAAAwBsCHkAAAADAfZQfQAAAAOCcYx9AAAAA0GKSHkAAAACQmt8dQAAAAADaTR1AAAAAEEU4HkA=",
          "dtype": "f8"
         },
         "yaxis": "y2"
        },
        {
         "mode": "markers",
         "name": "Frame 10",
         "showlegend": false,
         "type": "scatter",
         "x": [
          10,
          10,
          10,
          10,
          10,
          10,
          10,
          10,
          10,
          10
         ],
         "xaxis": "x2",
         "y": {
          "bdata": "AAAA4MsWHkAAAADwQP0cQAAAADgHoCBAAAAAYAgwH0AAAABAl9UfQAAAALB58B1AAAAAEL7ZHEAAAAAIDOIgQAAAABBvqB1AAAAAMP86H0A=",
          "dtype": "f8"
         },
         "yaxis": "y2"
        },
        {
         "mode": "markers",
         "name": "Frame 11",
         "showlegend": false,
         "type": "scatter",
         "x": [
          11,
          11,
          11,
          11,
          11,
          11,
          11,
          11,
          11,
          11
         ],
         "xaxis": "x2",
         "y": {
          "bdata": "AAAA0IHMIUAAAABwQuYdQAAAAHDaQx5AAAAAAKHXHUAAAACQGowhQAAAAFBGViBAAAAA8LXHIUAAAAAQog0hQAAAALD/bCBAAAAAgGgOIkA=",
          "dtype": "f8"
         },
         "yaxis": "y2"
        },
        {
         "mode": "markers",
         "name": "Frame 12",
         "showlegend": false,
         "type": "scatter",
         "x": [
          12,
          12,
          12,
          12,
          12,
          12,
          12,
          12,
          12,
          12
         ],
         "xaxis": "x2",
         "y": {
          "bdata": "AAAA0KcWIEAAAABQ6QcgQAAAAND77iBAAAAAiOtiIEAAAADgEEQhQAAAAFCOYyBAAAAAgPV0HUAAAAAok9AgQAAAAGCQXx5AAAAAEBJeHkA=",
          "dtype": "f8"
         },
         "yaxis": "y2"
        },
        {
         "mode": "markers",
         "name": "Frame 13",
         "showlegend": false,
         "type": "scatter",
         "x": [
          13,
          13,
          13,
          13,
          13,
          13,
          13,
          13,
          13,
          13
         ],
         "xaxis": "x2",
         "y": {
          "bdata": "AAAAcGGSHkAAAAAgwJQdQAAAAIBVcyBAAAAAyMk/IEAAAABQQRUiQAAAAPBG3x9AAAAAkKLbIEAAAAD4X1ggQAAAACC/wCNAAAAA0GC0IEA=",
          "dtype": "f8"
         },
         "yaxis": "y2"
        },
        {
         "mode": "markers",
         "name": "Frame 14",
         "showlegend": false,
         "type": "scatter",
         "x": [
          14,
          14,
          14,
          14,
          14,
          14,
          14,
          14,
          14,
          14
         ],
         "xaxis": "x2",
         "y": {
          "bdata": "AAAA6KfxIUAAAABQ6hYfQAAAANAc8h5AAAAAkG3xIkAAAABQX/EfQAAAALAaqx5AAAAAkBmfHUAAAAA4mSggQAAAAJCm0SBAAAAA+FiZIEA=",
          "dtype": "f8"
         },
         "yaxis": "y2"
        },
        {
         "mode": "markers",
         "name": "Frame 15",
         "showlegend": false,
         "type": "scatter",
         "x": [
          15,
          15,
          15,
          15,
          15,
          15,
          15,
          15,
          15,
          15
         ],
         "xaxis": "x2",
         "y": {
          "bdata": "AAAAINbTIUAAAAAgibUiQAAAAPB8tiBAAAAAiJk9IEAAAADQf4ghQAAAABAu4x5AAAAAkIaKHUAAAAAglTIfQAAAACCXzB5AAAAAkKvCIEA=",
          "dtype": "f8"
         },
         "yaxis": "y2"
        },
        {
         "mode": "markers",
         "name": "Frame 16",
         "showlegend": false,
         "type": "scatter",
         "x": [
          16,
          16,
          16,
          16,
          16,
          16,
          16,
          16,
          16,
          16
         ],
         "xaxis": "x2",
         "y": {
          "bdata": "AAAA4GpfH0AAAACQ1SgeQAAAANBNgB9AAAAAYAARHkAAAABIG+8gQAAAADDIph5AAAAAcLOBHUAAAAAQdCsfQAAAABAN0B5AAAAAUAkGIEA=",
          "dtype": "f8"
         },
         "yaxis": "y2"
        },
        {
         "mode": "markers",
         "name": "Frame 17",
         "showlegend": false,
         "type": "scatter",
         "x": [
          17,
          17,
          17,
          17,
          17,
          17,
          17,
          17,
          17,
          17
         ],
         "xaxis": "x2",
         "y": {
          "bdata": "AAAA4G+rH0AAAACAZCEeQAAAAPBThx9AAAAAULQwH0AAAAAAE6ogQAAAAFCL+B5AAAAA4IeRHUAAAABQXu0eQAAAAHBIbx5AAAAAcCWOIEA=",
          "dtype": "f8"
         },
         "yaxis": "y2"
        }
       ],
       "layout": {
        "annotations": [
         {
          "font": {
           "size": 16
          },
          "showarrow": false,
          "text": "Frame-wise Average Times",
          "x": 0.225,
          "xanchor": "center",
          "xref": "paper",
          "y": 1,
          "yanchor": "bottom",
          "yref": "paper"
         },
         {
          "font": {
           "size": 16
          },
          "showarrow": false,
          "text": "All Prompts per Frame",
          "x": 0.775,
          "xanchor": "center",
          "xref": "paper",
          "y": 1,
          "yanchor": "bottom",
          "yref": "paper"
         }
        ],
        "template": {
         "data": {
          "bar": [
           {
            "error_x": {
             "color": "#2a3f5f"
            },
            "error_y": {
             "color": "#2a3f5f"
            },
            "marker": {
             "line": {
              "color": "#E5ECF6",
              "width": 0.5
             },
             "pattern": {
              "fillmode": "overlay",
              "size": 10,
              "solidity": 0.2
             }
            },
            "type": "bar"
           }
          ],
          "barpolar": [
           {
            "marker": {
             "line": {
              "color": "#E5ECF6",
              "width": 0.5
             },
             "pattern": {
              "fillmode": "overlay",
              "size": 10,
              "solidity": 0.2
             }
            },
            "type": "barpolar"
           }
          ],
          "carpet": [
           {
            "aaxis": {
             "endlinecolor": "#2a3f5f",
             "gridcolor": "white",
             "linecolor": "white",
             "minorgridcolor": "white",
             "startlinecolor": "#2a3f5f"
            },
            "baxis": {
             "endlinecolor": "#2a3f5f",
             "gridcolor": "white",
             "linecolor": "white",
             "minorgridcolor": "white",
             "startlinecolor": "#2a3f5f"
            },
            "type": "carpet"
           }
          ],
          "choropleth": [
           {
            "colorbar": {
             "outlinewidth": 0,
             "ticks": ""
            },
            "type": "choropleth"
           }
          ],
          "contour": [
           {
            "colorbar": {
             "outlinewidth": 0,
             "ticks": ""
            },
            "colorscale": [
             [
              0,
              "#0d0887"
             ],
             [
              0.1111111111111111,
              "#46039f"
             ],
             [
              0.2222222222222222,
              "#7201a8"
             ],
             [
              0.3333333333333333,
              "#9c179e"
             ],
             [
              0.4444444444444444,
              "#bd3786"
             ],
             [
              0.5555555555555556,
              "#d8576b"
             ],
             [
              0.6666666666666666,
              "#ed7953"
             ],
             [
              0.7777777777777778,
              "#fb9f3a"
             ],
             [
              0.8888888888888888,
              "#fdca26"
             ],
             [
              1,
              "#f0f921"
             ]
            ],
            "type": "contour"
           }
          ],
          "contourcarpet": [
           {
            "colorbar": {
             "outlinewidth": 0,
             "ticks": ""
            },
            "type": "contourcarpet"
           }
          ],
          "heatmap": [
           {
            "colorbar": {
             "outlinewidth": 0,
             "ticks": ""
            },
            "colorscale": [
             [
              0,
              "#0d0887"
             ],
             [
              0.1111111111111111,
              "#46039f"
             ],
             [
              0.2222222222222222,
              "#7201a8"
             ],
             [
              0.3333333333333333,
              "#9c179e"
             ],
             [
              0.4444444444444444,
              "#bd3786"
             ],
             [
              0.5555555555555556,
              "#d8576b"
             ],
             [
              0.6666666666666666,
              "#ed7953"
             ],
             [
              0.7777777777777778,
              "#fb9f3a"
             ],
             [
              0.8888888888888888,
              "#fdca26"
             ],
             [
              1,
              "#f0f921"
             ]
            ],
            "type": "heatmap"
           }
          ],
          "histogram": [
           {
            "marker": {
             "pattern": {
              "fillmode": "overlay",
              "size": 10,
              "solidity": 0.2
             }
            },
            "type": "histogram"
           }
          ],
          "histogram2d": [
           {
            "colorbar": {
             "outlinewidth": 0,
             "ticks": ""
            },
            "colorscale": [
             [
              0,
              "#0d0887"
             ],
             [
              0.1111111111111111,
              "#46039f"
             ],
             [
              0.2222222222222222,
              "#7201a8"
             ],
             [
              0.3333333333333333,
              "#9c179e"
             ],
             [
              0.4444444444444444,
              "#bd3786"
             ],
             [
              0.5555555555555556,
              "#d8576b"
             ],
             [
              0.6666666666666666,
              "#ed7953"
             ],
             [
              0.7777777777777778,
              "#fb9f3a"
             ],
             [
              0.8888888888888888,
              "#fdca26"
             ],
             [
              1,
              "#f0f921"
             ]
            ],
            "type": "histogram2d"
           }
          ],
          "histogram2dcontour": [
           {
            "colorbar": {
             "outlinewidth": 0,
             "ticks": ""
            },
            "colorscale": [
             [
              0,
              "#0d0887"
             ],
             [
              0.1111111111111111,
              "#46039f"
             ],
             [
              0.2222222222222222,
              "#7201a8"
             ],
             [
              0.3333333333333333,
              "#9c179e"
             ],
             [
              0.4444444444444444,
              "#bd3786"
             ],
             [
              0.5555555555555556,
              "#d8576b"
             ],
             [
              0.6666666666666666,
              "#ed7953"
             ],
             [
              0.7777777777777778,
              "#fb9f3a"
             ],
             [
              0.8888888888888888,
              "#fdca26"
             ],
             [
              1,
              "#f0f921"
             ]
            ],
            "type": "histogram2dcontour"
           }
          ],
          "mesh3d": [
           {
            "colorbar": {
             "outlinewidth": 0,
             "ticks": ""
            },
            "type": "mesh3d"
           }
          ],
          "parcoords": [
           {
            "line": {
             "colorbar": {
              "outlinewidth": 0,
              "ticks": ""
             }
            },
            "type": "parcoords"
           }
          ],
          "pie": [
           {
            "automargin": true,
            "type": "pie"
           }
          ],
          "scatter": [
           {
            "fillpattern": {
             "fillmode": "overlay",
             "size": 10,
             "solidity": 0.2
            },
            "type": "scatter"
           }
          ],
          "scatter3d": [
           {
            "line": {
             "colorbar": {
              "outlinewidth": 0,
              "ticks": ""
             }
            },
            "marker": {
             "colorbar": {
              "outlinewidth": 0,
              "ticks": ""
             }
            },
            "type": "scatter3d"
           }
          ],
          "scattercarpet": [
           {
            "marker": {
             "colorbar": {
              "outlinewidth": 0,
              "ticks": ""
             }
            },
            "type": "scattercarpet"
           }
          ],
          "scattergeo": [
           {
            "marker": {
             "colorbar": {
              "outlinewidth": 0,
              "ticks": ""
             }
            },
            "type": "scattergeo"
           }
          ],
          "scattergl": [
           {
            "marker": {
             "colorbar": {
              "outlinewidth": 0,
              "ticks": ""
             }
            },
            "type": "scattergl"
           }
          ],
          "scattermap": [
           {
            "marker": {
             "colorbar": {
              "outlinewidth": 0,
              "ticks": ""
             }
            },
            "type": "scattermap"
           }
          ],
          "scattermapbox": [
           {
            "marker": {
             "colorbar": {
              "outlinewidth": 0,
              "ticks": ""
             }
            },
            "type": "scattermapbox"
           }
          ],
          "scatterpolar": [
           {
            "marker": {
             "colorbar": {
              "outlinewidth": 0,
              "ticks": ""
             }
            },
            "type": "scatterpolar"
           }
          ],
          "scatterpolargl": [
           {
            "marker": {
             "colorbar": {
              "outlinewidth": 0,
              "ticks": ""
             }
            },
            "type": "scatterpolargl"
           }
          ],
          "scatterternary": [
           {
            "marker": {
             "colorbar": {
              "outlinewidth": 0,
              "ticks": ""
             }
            },
            "type": "scatterternary"
           }
          ],
          "surface": [
           {
            "colorbar": {
             "outlinewidth": 0,
             "ticks": ""
            },
            "colorscale": [
             [
              0,
              "#0d0887"
             ],
             [
              0.1111111111111111,
              "#46039f"
             ],
             [
              0.2222222222222222,
              "#7201a8"
             ],
             [
              0.3333333333333333,
              "#9c179e"
             ],
             [
              0.4444444444444444,
              "#bd3786"
             ],
             [
              0.5555555555555556,
              "#d8576b"
             ],
             [
              0.6666666666666666,
              "#ed7953"
             ],
             [
              0.7777777777777778,
              "#fb9f3a"
             ],
             [
              0.8888888888888888,
              "#fdca26"
             ],
             [
              1,
              "#f0f921"
             ]
            ],
            "type": "surface"
           }
          ],
          "table": [
           {
            "cells": {
             "fill": {
              "color": "#EBF0F8"
             },
             "line": {
              "color": "white"
             }
            },
            "header": {
             "fill": {
              "color": "#C8D4E3"
             },
             "line": {
              "color": "white"
             }
            },
            "type": "table"
           }
          ]
         },
         "layout": {
          "annotationdefaults": {
           "arrowcolor": "#2a3f5f",
           "arrowhead": 0,
           "arrowwidth": 1
          },
          "autotypenumbers": "strict",
          "coloraxis": {
           "colorbar": {
            "outlinewidth": 0,
            "ticks": ""
           }
          },
          "colorscale": {
           "diverging": [
            [
             0,
             "#8e0152"
            ],
            [
             0.1,
             "#c51b7d"
            ],
            [
             0.2,
             "#de77ae"
            ],
            [
             0.3,
             "#f1b6da"
            ],
            [
             0.4,
             "#fde0ef"
            ],
            [
             0.5,
             "#f7f7f7"
            ],
            [
             0.6,
             "#e6f5d0"
            ],
            [
             0.7,
             "#b8e186"
            ],
            [
             0.8,
             "#7fbc41"
            ],
            [
             0.9,
             "#4d9221"
            ],
            [
             1,
             "#276419"
            ]
           ],
           "sequential": [
            [
             0,
             "#0d0887"
            ],
            [
             0.1111111111111111,
             "#46039f"
            ],
            [
             0.2222222222222222,
             "#7201a8"
            ],
            [
             0.3333333333333333,
             "#9c179e"
            ],
            [
             0.4444444444444444,
             "#bd3786"
            ],
            [
             0.5555555555555556,
             "#d8576b"
            ],
            [
             0.6666666666666666,
             "#ed7953"
            ],
            [
             0.7777777777777778,
             "#fb9f3a"
            ],
            [
             0.8888888888888888,
             "#fdca26"
            ],
            [
             1,
             "#f0f921"
            ]
           ],
           "sequentialminus": [
            [
             0,
             "#0d0887"
            ],
            [
             0.1111111111111111,
             "#46039f"
            ],
            [
             0.2222222222222222,
             "#7201a8"
            ],
            [
             0.3333333333333333,
             "#9c179e"
            ],
            [
             0.4444444444444444,
             "#bd3786"
            ],
            [
             0.5555555555555556,
             "#d8576b"
            ],
            [
             0.6666666666666666,
             "#ed7953"
            ],
            [
             0.7777777777777778,
             "#fb9f3a"
            ],
            [
             0.8888888888888888,
             "#fdca26"
            ],
            [
             1,
             "#f0f921"
            ]
           ]
          },
          "colorway": [
           "#636efa",
           "#EF553B",
           "#00cc96",
           "#ab63fa",
           "#FFA15A",
           "#19d3f3",
           "#FF6692",
           "#B6E880",
           "#FF97FF",
           "#FECB52"
          ],
          "font": {
           "color": "#2a3f5f"
          },
          "geo": {
           "bgcolor": "white",
           "lakecolor": "white",
           "landcolor": "#E5ECF6",
           "showlakes": true,
           "showland": true,
           "subunitcolor": "white"
          },
          "hoverlabel": {
           "align": "left"
          },
          "hovermode": "closest",
          "mapbox": {
           "style": "light"
          },
          "paper_bgcolor": "white",
          "plot_bgcolor": "#E5ECF6",
          "polar": {
           "angularaxis": {
            "gridcolor": "white",
            "linecolor": "white",
            "ticks": ""
           },
           "bgcolor": "#E5ECF6",
           "radialaxis": {
            "gridcolor": "white",
            "linecolor": "white",
            "ticks": ""
           }
          },
          "scene": {
           "xaxis": {
            "backgroundcolor": "#E5ECF6",
            "gridcolor": "white",
            "gridwidth": 2,
            "linecolor": "white",
            "showbackground": true,
            "ticks": "",
            "zerolinecolor": "white"
           },
           "yaxis": {
            "backgroundcolor": "#E5ECF6",
            "gridcolor": "white",
            "gridwidth": 2,
            "linecolor": "white",
            "showbackground": true,
            "ticks": "",
            "zerolinecolor": "white"
           },
           "zaxis": {
            "backgroundcolor": "#E5ECF6",
            "gridcolor": "white",
            "gridwidth": 2,
            "linecolor": "white",
            "showbackground": true,
            "ticks": "",
            "zerolinecolor": "white"
           }
          },
          "shapedefaults": {
           "line": {
            "color": "#2a3f5f"
           }
          },
          "ternary": {
           "aaxis": {
            "gridcolor": "white",
            "linecolor": "white",
            "ticks": ""
           },
           "baxis": {
            "gridcolor": "white",
            "linecolor": "white",
            "ticks": ""
           },
           "bgcolor": "#E5ECF6",
           "caxis": {
            "gridcolor": "white",
            "linecolor": "white",
            "ticks": ""
           }
          },
          "title": {
           "x": 0.05
          },
          "xaxis": {
           "automargin": true,
           "gridcolor": "white",
           "linecolor": "white",
           "ticks": "",
           "title": {
            "standoff": 15
           },
           "zerolinecolor": "white",
           "zerolinewidth": 2
          },
          "yaxis": {
           "automargin": true,
           "gridcolor": "white",
           "linecolor": "white",
           "ticks": "",
           "title": {
            "standoff": 15
           },
           "zerolinecolor": "white",
           "zerolinewidth": 2
          }
         }
        },
        "title": {
         "text": "SmolVLM Frame-wise Inference Times"
        },
        "xaxis": {
         "anchor": "y",
         "domain": [
          0,
          0.45
         ],
         "title": {
          "text": "Frame"
         }
        },
        "xaxis2": {
         "anchor": "y2",
         "domain": [
          0.55,
          1
         ],
         "title": {
          "text": "Frame"
         }
        },
        "yaxis": {
         "anchor": "x",
         "domain": [
          0,
          1
         ],
         "title": {
          "text": "Avg Time per Frame (s)"
         }
        },
        "yaxis2": {
         "anchor": "x2",
         "domain": [
          0,
          1
         ],
         "title": {
          "text": "Time per Prompt (s)"
         }
        }
       }
      }
     },
     "metadata": {},
     "output_type": "display_data"
    }
   ],
   "source": [
    "import numpy as np\n",
    "import plotly.graph_objects as go\n",
    "from plotly.subplots import make_subplots\n",
    "\n",
    "frame_durations = [7.988126039505005, 7.441399097442627, 7.982293128967285, 7.5592567920684814, 8.03861689567566, 7.494975805282593, 7.29808497428894, 7.6557090282440186, 7.522607803344727, 7.96260404586792, 7.750208139419556, 7.4618470668792725, 8.080986976623535, 7.594213962554932, 8.078094005584717, 7.471828937530518, 7.432935953140259, 7.727540969848633, 7.57755708694458, 7.9281980991363525, 7.848785877227783, 7.561712026596069, 7.861083984375, 7.591317892074585, 7.698180198669434, 7.303893089294434, 7.331212997436523, 7.737868070602417, 7.665045976638794, 7.969285011291504, 8.023762941360474, 7.790822267532349, 8.063060998916626, 7.863956928253174, 8.8474440574646, 8.509550094604492, 7.703817844390869, 9.44123888015747, 7.7800681591033936, 8.179249048233032, 7.926742076873779, 7.6156721115112305, 7.706362962722778, 8.026015996932983, 8.09115719795227, 7.432284832000732, 7.362820148468018, 7.664441823959351, 7.46610689163208, 8.337284803390503, 7.7466208934783936, 7.434203147888184, 7.780443906784058, 7.620444059371948, 8.114219903945923, 8.237276315689087, 7.859813213348389, 8.141057014465332, 7.842684984207153, 8.243405103683472, 8.117693901062012, 7.769243955612183, 8.058409929275513, 7.908437967300415, 8.206146001815796, 7.8853981494903564, 7.678642988204956, 8.002275228500366, 7.884188175201416, 8.27356481552124, 8.16845989227295, 7.927879095077515, 8.396631002426147, 8.271772146224976, 8.538717269897461, 7.94507098197937, 7.869871139526367, 8.220475912094116, 8.183341026306152, 8.485485792160034, 8.067385911941528, 7.576082944869995, 7.760834217071533, 7.502058982849121, 7.895010948181152, 7.847278118133545, 7.64295506477356, 7.468363046646118, 7.326026916503906, 7.554950952529907, 7.522262096405029, 7.2473180294036865, 8.312555074691772, 7.7969069480896, 7.958584785461426, 7.484839200973511, 7.212639093399048, 8.441498041152954, 7.4144861698150635, 7.807614088058472, 8.899427890777588, 7.474862813949585, 7.56626296043396, 7.460575103759766, 8.773640155792236, 8.168505191802979, 8.89005994796753, 8.52662706375122, 8.212888240814209, 9.028141021728516, 8.044249057769775, 8.015451908111572, 8.4667649269104, 8.193203210830688, 8.632941246032715, 8.194445133209229, 7.364217758178711, 8.40737271308899, 7.593324184417725, 7.59186577796936, 7.642949819564819, 7.395264148712158, 8.225261688232422, 8.124586343765259, 9.041513919830322, 7.96804404258728, 8.428974628448486, 8.172607183456421, 9.876458168029785, 8.352301120758057, 8.971984148025513, 7.772378206253052, 7.736438035964966, 9.47153902053833, 7.98571515083313, 7.667093992233276, 7.4053709506988525, 8.079293966293335, 8.409473896026611, 8.299506902694702, 8.913743019104004, 9.354561805725098, 8.356421947479248, 8.120311975479126, 8.766600131988525, 7.721855401992798, 7.385278940200806, 7.799396991729736, 7.699795246124268, 8.380215167999268, 7.843181133270264, 7.53987717628479, 7.8752968311309814, 7.516602993011475, 8.467005014419556, 7.662873029708862, 7.376661062240601, 7.792434930801392, 7.703174829483032, 8.011789798736572, 7.917418956756592, 7.532609939575195, 7.882156133651733, 7.797562837600708, 8.332176208496094, 7.742718935012817, 7.392119884490967, 7.731805086135864, 7.608674764633179, 8.277629375457764]\n",
    "frames = list(range(1, len(frame_durations) + 1))\n",
    "\n",
    "\n",
    "num_prompts = 10\n",
    "num_frames = len(frame_durations) // num_prompts\n",
    "\n",
    "# reshape into (frames, prompts)\n",
    "durations_array = np.array(frame_durations).reshape(num_frames, num_prompts)\n",
    "\n",
    "# average across prompts → one value per frame\n",
    "frame_avg_times = durations_array.mean(axis=1)\n",
    "\n",
    "frames = list(range(1, num_frames + 1))\n",
    "\n",
    "# --- Subplots: Frame-wise Average + All datapoints ---\n",
    "fig = make_subplots(rows=1, cols=2, subplot_titles=(\"Frame-wise Average Times\", \"All Prompts per Frame\"))\n",
    "\n",
    "# Left graph: frame-wise averages\n",
    "fig.add_trace(\n",
    "    go.Scatter(x=frames, y=frame_avg_times, mode=\"lines+markers\", line=dict(color=\"orange\"), name=\"Average per Frame\"),\n",
    "    row=1, col=1\n",
    ")\n",
    "\n",
    "# Right graph: all datapoints per frame\n",
    "for i in range(num_frames):\n",
    "    fig.add_trace(\n",
    "        go.Scatter(x=[frames[i]]*num_prompts, y=durations_array[i], mode=\"markers\", name=f\"Frame {frames[i]}\", showlegend=False),\n",
    "        row=1, col=2\n",
    "    )\n",
    "\n",
    "fig.update_xaxes(title_text=\"Frame\", row=1, col=1)\n",
    "fig.update_yaxes(title_text=\"Avg Time per Frame (s)\", row=1, col=1)\n",
    "\n",
    "fig.update_xaxes(title_text=\"Frame\", row=1, col=2)\n",
    "fig.update_yaxes(title_text=\"Time per Prompt (s)\", row=1, col=2)\n",
    "\n",
    "fig.update_layout(title=\"SmolVLM Frame-wise Inference Times\")\n",
    "\n",
    "fig.show()\n"
   ]
  }
 ],
 "metadata": {
  "kernelspec": {
   "display_name": "siemens-env",
   "language": "python",
   "name": "python3"
  },
  "language_info": {
   "codemirror_mode": {
    "name": "ipython",
    "version": 3
   },
   "file_extension": ".py",
   "mimetype": "text/x-python",
   "name": "python",
   "nbconvert_exporter": "python",
   "pygments_lexer": "ipython3",
   "version": "3.11.13"
  }
 },
 "nbformat": 4,
 "nbformat_minor": 5
}
